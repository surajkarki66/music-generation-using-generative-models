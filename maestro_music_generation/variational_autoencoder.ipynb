{
  "cells": [
    {
      "cell_type": "markdown",
      "source": [
        "## Imports"
      ],
      "metadata": {
        "id": "QTXUlW2GaB-f"
      }
    },
    {
      "cell_type": "code",
      "execution_count": 1,
      "metadata": {
        "_cell_guid": "79c7e3d0-c299-4dcb-8224-4455121ee9b0",
        "_uuid": "d629ff2d2480ee46fbb7e2d37f6b5fab8052498a",
        "id": "5b7bOimMaAyw"
      },
      "outputs": [],
      "source": [
        "import pickle\n",
        "import numpy as np\n",
        "import tensorflow as tf\n",
        "import matplotlib.pyplot as plt\n",
        "\n",
        "from tensorflow import keras\n",
        "from tensorflow.keras import layers"
      ]
    },
    {
      "cell_type": "markdown",
      "source": [
        "## Mounting Google Drive"
      ],
      "metadata": {
        "id": "1mj5UzfDa0FG"
      }
    },
    {
      "cell_type": "code",
      "source": [
        "from google.colab import drive\n",
        "drive.mount('/content/drive/')"
      ],
      "metadata": {
        "colab": {
          "base_uri": "https://localhost:8080/"
        },
        "id": "9k60gh0Fay3N",
        "outputId": "743112ee-42f2-4b57-c199-2b634b77d486"
      },
      "execution_count": 2,
      "outputs": [
        {
          "output_type": "stream",
          "name": "stdout",
          "text": [
            "Drive already mounted at /content/drive/; to attempt to forcibly remount, call drive.mount(\"/content/drive/\", force_remount=True).\n"
          ]
        }
      ]
    },
    {
      "cell_type": "markdown",
      "source": [
        "## Loading the dataset"
      ],
      "metadata": {
        "id": "xrpq4DFMcvqx"
      }
    },
    {
      "cell_type": "code",
      "source": [
        "train_path = \"/content/drive/MyDrive/Colab Notebooks/maestro-midi/train_128.pickle\"\n",
        "test_path = \"/content/drive/MyDrive/Colab Notebooks/maestro-midi/test_128.pickle\""
      ],
      "metadata": {
        "id": "36fQEirlczDl"
      },
      "execution_count": 3,
      "outputs": []
    },
    {
      "cell_type": "code",
      "source": [
        "with open(train_path, 'rb') as train_pickle:\n",
        "    train_data = pickle.load(train_pickle)"
      ],
      "metadata": {
        "id": "PpSyusysdYFO"
      },
      "execution_count": 4,
      "outputs": []
    },
    {
      "cell_type": "code",
      "source": [
        "with open(test_path, 'rb') as test_pickle:\n",
        "    test_data =  pickle.load(test_pickle)"
      ],
      "metadata": {
        "id": "yS98azex8sZi"
      },
      "execution_count": 5,
      "outputs": []
    },
    {
      "cell_type": "code",
      "source": [
        "print(\"Length of train data: \", len(train_data))\n",
        "print(\"Length of test data: \", len(test_data))"
      ],
      "metadata": {
        "colab": {
          "base_uri": "https://localhost:8080/"
        },
        "id": "HhNdU1r2kB1X",
        "outputId": "d217122a-fdda-4db4-ea8b-4f7beda6f9d0"
      },
      "execution_count": 6,
      "outputs": [
        {
          "output_type": "stream",
          "name": "stdout",
          "text": [
            "Length of train data:  214858\n",
            "Length of test data:  26984\n"
          ]
        }
      ]
    },
    {
      "cell_type": "markdown",
      "source": [
        "When we take whole training data the free google collab session is crashing because of high RAM usage. To solve this problem for now, we are going to take less no. of samples"
      ],
      "metadata": {
        "id": "ehaKetkpkUH4"
      }
    },
    {
      "cell_type": "code",
      "source": [
        "train_data = train_data[:70000]"
      ],
      "metadata": {
        "id": "_i4Lhbz4PVXb"
      },
      "execution_count": 7,
      "outputs": []
    },
    {
      "cell_type": "code",
      "source": [
        "print(\"Length of train data: \", len(train_data))"
      ],
      "metadata": {
        "colab": {
          "base_uri": "https://localhost:8080/"
        },
        "id": "N7f2t6NyXfcQ",
        "outputId": "8efa9f6c-39b6-44a5-c28a-c60eb5e71bca"
      },
      "execution_count": 8,
      "outputs": [
        {
          "output_type": "stream",
          "name": "stdout",
          "text": [
            "Length of train data:  70000\n"
          ]
        }
      ]
    },
    {
      "cell_type": "markdown",
      "source": [
        "Lets plot sample data"
      ],
      "metadata": {
        "id": "0RART8rlk2kZ"
      }
    },
    {
      "cell_type": "code",
      "source": [
        "import matplotlib.pyplot as plt\n",
        "\n",
        "# Take the first 10 images from the list\n",
        "selected_images = train_data[:10]\n",
        "\n",
        "# Create a 2x5 grid for plotting 10 images\n",
        "rows, cols = 2, 5\n",
        "\n",
        "# Set up the subplots\n",
        "fig, axes = plt.subplots(rows, cols, figsize=(10, 4))\n",
        "\n",
        "# Iterate through the selected images and plot them\n",
        "for i in range(rows):\n",
        "    for j in range(cols):\n",
        "        index = i * cols + j\n",
        "        axes[i, j].imshow(selected_images[index], cmap='gray')  # Assuming grayscale images\n",
        "        axes[i, j].axis('off')  # Turn off axis labels\n",
        "        axes[i, j].set_title(f'Sample {index + 1}')\n",
        "\n",
        "plt.show()\n"
      ],
      "metadata": {
        "colab": {
          "base_uri": "https://localhost:8080/",
          "height": 360
        },
        "id": "2ETZvbmykzMO",
        "outputId": "b14f3d57-7048-448e-98eb-60d99d5281f3"
      },
      "execution_count": 9,
      "outputs": [
        {
          "output_type": "display_data",
          "data": {
            "text/plain": [
              "<Figure size 1000x400 with 10 Axes>"
            ],
            "image/png": "[encoded data removed]"
          },
          "metadata": {}
        }
      ]
    },
    {
      "cell_type": "code",
      "source": [
        "train_data = 127 - train_data\n",
        "test_data = 127 - test_data"
      ],
      "metadata": {
        "id": "rOHJbqmikzcW"
      },
      "execution_count": 10,
      "outputs": []
    },
    {
      "cell_type": "markdown",
      "source": [
        "## Building the architecture"
      ],
      "metadata": {
        "id": "NEKha-4jeFg_"
      }
    },
    {
      "cell_type": "markdown",
      "source": [
        "### Sampling Layer"
      ],
      "metadata": {
        "id": "yhqyWz51RzOi"
      }
    },
    {
      "cell_type": "code",
      "source": [
        "import tensorflow as tf\n",
        "\n",
        "class Sampler(layers.Layer):\n",
        "    def call(self, z_mean, z_log_var):\n",
        "        batch_size = tf.shape(z_mean)[0]\n",
        "        z_size = tf.shape(z_mean)[1]\n",
        "        epsilon = tf.random.normal(shape=(batch_size, z_size))\n",
        "        return z_mean + tf.exp(0.5 * z_log_var) * epsilon"
      ],
      "metadata": {
        "id": "IK0_bwwtR1Xd"
      },
      "execution_count": 11,
      "outputs": []
    },
    {
      "cell_type": "code",
      "source": [
        "mean = np.array([[0.1,1.2,0.2,0.8]], dtype=np.float32)\n",
        "standard_deviation = np.array([[0.2,0.5,0.8,1.3]], dtype=np.float32)\n",
        "z = Sampler()(mean, standard_deviation)"
      ],
      "metadata": {
        "id": "EY-I_Mw0SA3Q"
      },
      "execution_count": 12,
      "outputs": []
    },
    {
      "cell_type": "code",
      "source": [
        "print(z.numpy())\n",
        "print(z.shape)"
      ],
      "metadata": {
        "colab": {
          "base_uri": "https://localhost:8080/"
        },
        "id": "W9yi0QppSA__",
        "outputId": "abfff528-f24b-46e7-ad2f-916054412505"
      },
      "execution_count": 13,
      "outputs": [
        {
          "output_type": "stream",
          "name": "stdout",
          "text": [
            "[[ 0.77615803 -0.64994335 -1.761541    2.7198172 ]]\n",
            "(1, 4)\n"
          ]
        }
      ]
    },
    {
      "cell_type": "markdown",
      "source": [
        "### Encoder"
      ],
      "metadata": {
        "id": "vQOCh80VSPNa"
      }
    },
    {
      "cell_type": "code",
      "source": [
        "latent_dim = 256\n",
        "\n",
        "encoder_inputs = keras.Input(shape=(128, 128, 1))\n",
        "x = layers.Conv2D(32, 3, activation=\"relu\", strides=2, padding=\"same\")(encoder_inputs)\n",
        "x = layers.Conv2D(64, 3, activation=\"relu\", strides=2, padding=\"same\")(x)\n",
        "x = layers.Conv2D(128, 3, activation=\"relu\", strides=2, padding=\"same\")(x)\n",
        "\n",
        "x = layers.Flatten()(x)\n",
        "x = layers.Dense(512, activation=\"relu\")(x)\n",
        "z_mean = layers.Dense(latent_dim, name=\"z_mean\")(x)\n",
        "z_log_var = layers.Dense(latent_dim, name=\"z_log_var\")(x)\n",
        "encoder = keras.Model(encoder_inputs, [z_mean, z_log_var], name=\"encoder\")"
      ],
      "metadata": {
        "id": "EZ1V6w0tSRqa"
      },
      "execution_count": 14,
      "outputs": []
    },
    {
      "cell_type": "code",
      "source": [
        "encoder.summary()"
      ],
      "metadata": {
        "colab": {
          "base_uri": "https://localhost:8080/"
        },
        "id": "6SfL1aMXUhA8",
        "outputId": "727bca07-8917-4c19-e575-6327ff1d38a1"
      },
      "execution_count": 15,
      "outputs": [
        {
          "output_type": "stream",
          "name": "stdout",
          "text": [
            "Model: \"encoder\"\n",
            "__________________________________________________________________________________________________\n",
            " Layer (type)                Output Shape                 Param #   Connected to                  \n",
            "==================================================================================================\n",
            " input_1 (InputLayer)        [(None, 128, 128, 1)]        0         []                            \n",
            "                                                                                                  \n",
            " conv2d (Conv2D)             (None, 64, 64, 32)           320       ['input_1[0][0]']             \n",
            "                                                                                                  \n",
            " conv2d_1 (Conv2D)           (None, 32, 32, 64)           18496     ['conv2d[0][0]']              \n",
            "                                                                                                  \n",
            " conv2d_2 (Conv2D)           (None, 16, 16, 128)          73856     ['conv2d_1[0][0]']            \n",
            "                                                                                                  \n",
            " flatten (Flatten)           (None, 32768)                0         ['conv2d_2[0][0]']            \n",
            "                                                                                                  \n",
            " dense (Dense)               (None, 512)                  1677772   ['flatten[0][0]']             \n",
            "                                                          8                                       \n",
            "                                                                                                  \n",
            " z_mean (Dense)              (None, 256)                  131328    ['dense[0][0]']               \n",
            "                                                                                                  \n",
            " z_log_var (Dense)           (None, 256)                  131328    ['dense[0][0]']               \n",
            "                                                                                                  \n",
            "==================================================================================================\n",
            "Total params: 17133056 (65.36 MB)\n",
            "Trainable params: 17133056 (65.36 MB)\n",
            "Non-trainable params: 0 (0.00 Byte)\n",
            "__________________________________________________________________________________________________\n"
          ]
        }
      ]
    },
    {
      "cell_type": "markdown",
      "source": [
        "### Decoder"
      ],
      "metadata": {
        "id": "XENznW0iUsdR"
      }
    },
    {
      "cell_type": "code",
      "source": [
        "latent_inputs = keras.Input(shape=(latent_dim,))\n",
        "x = layers.Dense(16 * 16 * 128, activation=\"relu\")(latent_inputs)\n",
        "x = layers.Reshape((16, 16, 128))(x)\n",
        "\n",
        "x = layers.Conv2DTranspose(128, 3, activation=\"relu\", strides=2, padding=\"same\")(x)\n",
        "x = layers.Conv2DTranspose(64, 3, activation=\"relu\", strides=2, padding=\"same\")(x)\n",
        "x = layers.Conv2DTranspose(32, 3, activation=\"relu\", strides=2, padding=\"same\")(x)\n",
        "\n",
        "decoder_outputs = layers.Conv2D(1, 3, activation=\"sigmoid\", padding=\"same\")(x)\n",
        "decoder = keras.Model(latent_inputs, decoder_outputs, name=\"decoder\")"
      ],
      "metadata": {
        "id": "qxLVv45nUuOr"
      },
      "execution_count": 16,
      "outputs": []
    },
    {
      "cell_type": "code",
      "source": [
        "decoder.summary()"
      ],
      "metadata": {
        "colab": {
          "base_uri": "https://localhost:8080/"
        },
        "id": "ySpopM3vWUzl",
        "outputId": "01c22373-4670-42fb-f0a8-ee97bca5d595"
      },
      "execution_count": 17,
      "outputs": [
        {
          "output_type": "stream",
          "name": "stdout",
          "text": [
            "Model: \"decoder\"\n",
            "_________________________________________________________________\n",
            " Layer (type)                Output Shape              Param #   \n",
            "=================================================================\n",
            " input_2 (InputLayer)        [(None, 256)]             0         \n",
            "                                                                 \n",
            " dense_1 (Dense)             (None, 32768)             8421376   \n",
            "                                                                 \n",
            " reshape (Reshape)           (None, 16, 16, 128)       0         \n",
            "                                                                 \n",
            " conv2d_transpose (Conv2DTr  (None, 32, 32, 128)       147584    \n",
            " anspose)                                                        \n",
            "                                                                 \n",
            " conv2d_transpose_1 (Conv2D  (None, 64, 64, 64)        73792     \n",
            " Transpose)                                                      \n",
            "                                                                 \n",
            " conv2d_transpose_2 (Conv2D  (None, 128, 128, 32)      18464     \n",
            " Transpose)                                                      \n",
            "                                                                 \n",
            " conv2d_3 (Conv2D)           (None, 128, 128, 1)       289       \n",
            "                                                                 \n",
            "=================================================================\n",
            "Total params: 8661505 (33.04 MB)\n",
            "Trainable params: 8661505 (33.04 MB)\n",
            "Non-trainable params: 0 (0.00 Byte)\n",
            "_________________________________________________________________\n"
          ]
        }
      ]
    },
    {
      "cell_type": "markdown",
      "source": [
        "### Architecture"
      ],
      "metadata": {
        "id": "pV3e7QCotcm8"
      }
    },
    {
      "cell_type": "code",
      "source": [
        "class VAE(keras.Model):\n",
        "    def __init__(self, encoder, decoder, **kwargs):\n",
        "        super().__init__(**kwargs)\n",
        "        self.encoder = encoder\n",
        "        self.decoder = decoder\n",
        "        self.sampler = Sampler()\n",
        "        self.total_loss_tracker = keras.metrics.Mean(name=\"total_loss\")\n",
        "        self.reconstruction_loss_tracker = keras.metrics.Mean(\n",
        "            name=\"reconstruction_loss\")\n",
        "        self.kl_loss_tracker = keras.metrics.Mean(name=\"kl_loss\")\n",
        "\n",
        "    @property\n",
        "    def metrics(self):\n",
        "        return [self.total_loss_tracker,\n",
        "                self.reconstruction_loss_tracker,\n",
        "                self.kl_loss_tracker]\n",
        "\n",
        "    def train_step(self, data):\n",
        "        data = data / 127\n",
        "        data = np.expand_dims(data, -1)\n",
        "        with tf.GradientTape() as tape:\n",
        "            z_mean, z_log_var = self.encoder(data)\n",
        "            z = self.sampler(z_mean, z_log_var)\n",
        "            reconstruction = self.decoder(z)\n",
        "            reconstruction_loss = tf.reduce_mean(\n",
        "                tf.reduce_sum(\n",
        "                    keras.losses.binary_crossentropy(data, reconstruction),\n",
        "                    axis=(1, 2)\n",
        "                )\n",
        "            )\n",
        "            kl_loss = -0.5 * (1 + z_log_var - tf.square(z_mean) - tf.exp(z_log_var))\n",
        "            total_loss = reconstruction_loss + tf.reduce_mean(kl_loss)\n",
        "        grads = tape.gradient(total_loss, self.trainable_weights)\n",
        "        self.optimizer.apply_gradients(zip(grads, self.trainable_weights))\n",
        "        self.total_loss_tracker.update_state(total_loss)\n",
        "        self.reconstruction_loss_tracker.update_state(reconstruction_loss)\n",
        "        self.kl_loss_tracker.update_state(kl_loss)\n",
        "        return {\n",
        "            \"total_training_loss\": self.total_loss_tracker.result(),\n",
        "            \"training_reconstruction_loss\": self.reconstruction_loss_tracker.result(),\n",
        "            \"training_kl_loss\": self.kl_loss_tracker.result(),\n",
        "        }\n",
        "\n",
        "    def test_step(self, data):\n",
        "        data = data / 127\n",
        "        data = np.expand_dims(data, -1)\n",
        "        z_mean, z_log_var = self.encoder(data)\n",
        "        z = self.sampler(z_mean, z_log_var)\n",
        "        reconstruction = self.decoder(z)\n",
        "\n",
        "        reconstruction_loss = tf.reduce_mean(\n",
        "            tf.reduce_sum(\n",
        "                keras.losses.binary_crossentropy(data, reconstruction),\n",
        "                axis=(1, 2)\n",
        "            )\n",
        "        )\n",
        "        kl_loss = -0.5 * (1 + z_log_var - tf.square(z_mean) - tf.exp(z_log_var))\n",
        "        total_loss = reconstruction_loss + tf.reduce_mean(kl_loss)\n",
        "\n",
        "        self.total_loss_tracker.update_state(total_loss)\n",
        "        self.reconstruction_loss_tracker.update_state(reconstruction_loss)\n",
        "        self.kl_loss_tracker.update_state(kl_loss)\n",
        "\n",
        "        return {\n",
        "            \"total_testing_loss\": self.total_loss_tracker.result(),\n",
        "            \"testing_reconstruction_loss\": self.reconstruction_loss_tracker.result(),\n",
        "            \"testing_kl_loss\": self.kl_loss_tracker.result(),\n",
        "        }"
      ],
      "metadata": {
        "id": "kwCw98CbWk-1"
      },
      "execution_count": 18,
      "outputs": []
    },
    {
      "cell_type": "markdown",
      "source": [
        "## Training Model"
      ],
      "metadata": {
        "id": "ng4VVXtL1s_w"
      }
    },
    {
      "cell_type": "code",
      "source": [
        "vae = VAE(encoder, decoder)\n",
        "vae.compile(optimizer=keras.optimizers.Adam(), run_eagerly=True)\n",
        "vae.fit(train_data, epochs=50, batch_size=64)"
      ],
      "metadata": {
        "colab": {
          "base_uri": "https://localhost:8080/"
        },
        "id": "n0hirK83W5wc",
        "outputId": "9ea9acc0-41cb-419d-da8d-17532a32fe2f"
      },
      "execution_count": 19,
      "outputs": [
        {
          "output_type": "stream",
          "name": "stdout",
          "text": [
            "Epoch 1/50\n"
          ]
        },
        {
          "output_type": "stream",
          "name": "stderr",
          "text": [
            "WARNING:tensorflow:5 out of the last 5 calls to <function _BaseOptimizer._update_step_xla at 0x7bea080d4550> triggered tf.function retracing. Tracing is expensive and the excessive number of tracings could be due to (1) creating @tf.function repeatedly in a loop, (2) passing tensors with different shapes, (3) passing Python objects instead of tensors. For (1), please define your @tf.function outside of the loop. For (2), @tf.function has reduce_retracing=True option that can avoid unnecessary retracing. For (3), please refer to https://www.tensorflow.org/guide/function#controlling_retracing and https://www.tensorflow.org/api_docs/python/tf/function for  more details.\n",
            "WARNING:tensorflow:6 out of the last 6 calls to <function _BaseOptimizer._update_step_xla at 0x7bea080d4550> triggered tf.function retracing. Tracing is expensive and the excessive number of tracings could be due to (1) creating @tf.function repeatedly in a loop, (2) passing tensors with different shapes, (3) passing Python objects instead of tensors. For (1), please define your @tf.function outside of the loop. For (2), @tf.function has reduce_retracing=True option that can avoid unnecessary retracing. For (3), please refer to https://www.tensorflow.org/guide/function#controlling_retracing and https://www.tensorflow.org/api_docs/python/tf/function for  more details.\n"
          ]
        },
        {
          "output_type": "stream",
          "name": "stdout",
          "text": [
            "1094/1094 [==============================] - 137s 117ms/step - total_training_loss: 753.7090 - training_reconstruction_loss: 740.1423 - training_kl_loss: 13.5665\n",
            "Epoch 2/50\n",
            "1094/1094 [==============================] - 125s 114ms/step - total_training_loss: 406.6520 - training_reconstruction_loss: 404.4106 - training_kl_loss: 2.2413\n",
            "Epoch 3/50\n",
            "1094/1094 [==============================] - 124s 113ms/step - total_training_loss: 318.3447 - training_reconstruction_loss: 315.6656 - training_kl_loss: 2.6791\n",
            "Epoch 4/50\n",
            "1094/1094 [==============================] - 123s 112ms/step - total_training_loss: 289.0262 - training_reconstruction_loss: 286.2936 - training_kl_loss: 2.7325\n",
            "Epoch 5/50\n",
            "1094/1094 [==============================] - 124s 114ms/step - total_training_loss: 275.1309 - training_reconstruction_loss: 272.4242 - training_kl_loss: 2.7067\n",
            "Epoch 6/50\n",
            "1094/1094 [==============================] - 124s 113ms/step - total_training_loss: 267.9007 - training_reconstruction_loss: 265.1881 - training_kl_loss: 2.7125\n",
            "Epoch 7/50\n",
            "1094/1094 [==============================] - 123s 113ms/step - total_training_loss: 260.0430 - training_reconstruction_loss: 257.3652 - training_kl_loss: 2.6777\n",
            "Epoch 8/50\n",
            "1094/1094 [==============================] - 123s 113ms/step - total_training_loss: 254.9154 - training_reconstruction_loss: 252.2622 - training_kl_loss: 2.6532\n",
            "Epoch 9/50\n",
            "1094/1094 [==============================] - 124s 113ms/step - total_training_loss: 258.0183 - training_reconstruction_loss: 255.3355 - training_kl_loss: 2.6827\n",
            "Epoch 10/50\n",
            "1094/1094 [==============================] - 123s 112ms/step - total_training_loss: 248.1506 - training_reconstruction_loss: 245.4914 - training_kl_loss: 2.6591\n",
            "Epoch 11/50\n",
            "1094/1094 [==============================] - 123s 113ms/step - total_training_loss: 247.3483 - training_reconstruction_loss: 244.6873 - training_kl_loss: 2.6611\n",
            "Epoch 12/50\n",
            "1094/1094 [==============================] - 124s 113ms/step - total_training_loss: 244.1410 - training_reconstruction_loss: 241.4576 - training_kl_loss: 2.6835\n",
            "Epoch 13/50\n",
            "1094/1094 [==============================] - 124s 113ms/step - total_training_loss: 244.0473 - training_reconstruction_loss: 241.3544 - training_kl_loss: 2.6928\n",
            "Epoch 14/50\n",
            "1094/1094 [==============================] - 121s 111ms/step - total_training_loss: 241.3050 - training_reconstruction_loss: 238.6097 - training_kl_loss: 2.6953\n",
            "Epoch 15/50\n",
            "1094/1094 [==============================] - 125s 114ms/step - total_training_loss: 239.2991 - training_reconstruction_loss: 236.6016 - training_kl_loss: 2.6976\n",
            "Epoch 16/50\n",
            "1094/1094 [==============================] - 123s 112ms/step - total_training_loss: 238.9667 - training_reconstruction_loss: 236.2621 - training_kl_loss: 2.7047\n",
            "Epoch 17/50\n",
            "1094/1094 [==============================] - 123s 112ms/step - total_training_loss: 235.8459 - training_reconstruction_loss: 233.1164 - training_kl_loss: 2.7293\n",
            "Epoch 18/50\n",
            "1094/1094 [==============================] - 124s 113ms/step - total_training_loss: 236.5594 - training_reconstruction_loss: 233.8235 - training_kl_loss: 2.7359\n",
            "Epoch 19/50\n",
            "1094/1094 [==============================] - 122s 112ms/step - total_training_loss: 234.2982 - training_reconstruction_loss: 231.5515 - training_kl_loss: 2.7466\n",
            "Epoch 20/50\n",
            "1094/1094 [==============================] - 122s 112ms/step - total_training_loss: 235.8838 - training_reconstruction_loss: 233.1367 - training_kl_loss: 2.7470\n",
            "Epoch 21/50\n",
            "1094/1094 [==============================] - 122s 111ms/step - total_training_loss: 231.7243 - training_reconstruction_loss: 228.9678 - training_kl_loss: 2.7563\n",
            "Epoch 22/50\n",
            "1094/1094 [==============================] - 123s 113ms/step - total_training_loss: 231.5539 - training_reconstruction_loss: 228.7833 - training_kl_loss: 2.7707\n",
            "Epoch 23/50\n",
            "1094/1094 [==============================] - 123s 112ms/step - total_training_loss: 229.6737 - training_reconstruction_loss: 226.8939 - training_kl_loss: 2.7799\n",
            "Epoch 24/50\n",
            "1094/1094 [==============================] - 123s 112ms/step - total_training_loss: 229.0062 - training_reconstruction_loss: 226.2198 - training_kl_loss: 2.7864\n",
            "Epoch 25/50\n",
            "1094/1094 [==============================] - 123s 112ms/step - total_training_loss: 228.8463 - training_reconstruction_loss: 226.0524 - training_kl_loss: 2.7939\n",
            "Epoch 26/50\n",
            "1094/1094 [==============================] - 122s 112ms/step - total_training_loss: 227.1204 - training_reconstruction_loss: 224.3224 - training_kl_loss: 2.7980\n",
            "Epoch 27/50\n",
            "1094/1094 [==============================] - 122s 112ms/step - total_training_loss: 228.1000 - training_reconstruction_loss: 225.2874 - training_kl_loss: 2.8126\n",
            "Epoch 28/50\n",
            "1094/1094 [==============================] - 124s 113ms/step - total_training_loss: 226.0470 - training_reconstruction_loss: 223.2416 - training_kl_loss: 2.8056\n",
            "Epoch 29/50\n",
            "1094/1094 [==============================] - 123s 112ms/step - total_training_loss: 225.5318 - training_reconstruction_loss: 222.7015 - training_kl_loss: 2.8302\n",
            "Epoch 30/50\n",
            "1094/1094 [==============================] - 123s 113ms/step - total_training_loss: 227.3415 - training_reconstruction_loss: 224.5208 - training_kl_loss: 2.8205\n",
            "Epoch 31/50\n",
            "1094/1094 [==============================] - 122s 112ms/step - total_training_loss: 224.6051 - training_reconstruction_loss: 221.7846 - training_kl_loss: 2.8204\n",
            "Epoch 32/50\n",
            "1094/1094 [==============================] - 123s 112ms/step - total_training_loss: 224.4880 - training_reconstruction_loss: 221.6506 - training_kl_loss: 2.8375\n",
            "Epoch 33/50\n",
            "1094/1094 [==============================] - 122s 112ms/step - total_training_loss: 223.7121 - training_reconstruction_loss: 220.8635 - training_kl_loss: 2.8485\n",
            "Epoch 34/50\n",
            "1094/1094 [==============================] - 122s 111ms/step - total_training_loss: 222.5092 - training_reconstruction_loss: 219.6613 - training_kl_loss: 2.8478\n",
            "Epoch 35/50\n",
            "1094/1094 [==============================] - 123s 112ms/step - total_training_loss: 222.7859 - training_reconstruction_loss: 219.9322 - training_kl_loss: 2.8538\n",
            "Epoch 36/50\n",
            "1094/1094 [==============================] - 122s 112ms/step - total_training_loss: 222.0418 - training_reconstruction_loss: 219.1728 - training_kl_loss: 2.8690\n",
            "Epoch 37/50\n",
            "1094/1094 [==============================] - 122s 111ms/step - total_training_loss: 221.3158 - training_reconstruction_loss: 218.4588 - training_kl_loss: 2.8569\n",
            "Epoch 38/50\n",
            "1094/1094 [==============================] - 122s 112ms/step - total_training_loss: 221.6022 - training_reconstruction_loss: 218.7313 - training_kl_loss: 2.8711\n",
            "Epoch 39/50\n",
            "1094/1094 [==============================] - 122s 112ms/step - total_training_loss: 220.6605 - training_reconstruction_loss: 217.7856 - training_kl_loss: 2.8749\n",
            "Epoch 40/50\n",
            "1094/1094 [==============================] - 122s 112ms/step - total_training_loss: 226.3310 - training_reconstruction_loss: 223.4426 - training_kl_loss: 2.8883\n",
            "Epoch 41/50\n",
            "1094/1094 [==============================] - 122s 111ms/step - total_training_loss: 220.3809 - training_reconstruction_loss: 217.4980 - training_kl_loss: 2.8828\n",
            "Epoch 42/50\n",
            "1094/1094 [==============================] - 122s 112ms/step - total_training_loss: 219.4607 - training_reconstruction_loss: 216.5729 - training_kl_loss: 2.8877\n",
            "Epoch 43/50\n",
            "1094/1094 [==============================] - 123s 112ms/step - total_training_loss: 219.0764 - training_reconstruction_loss: 216.1879 - training_kl_loss: 2.8887\n",
            "Epoch 44/50\n",
            "1094/1094 [==============================] - 122s 111ms/step - total_training_loss: 218.7498 - training_reconstruction_loss: 215.8595 - training_kl_loss: 2.8905\n",
            "Epoch 45/50\n",
            "1094/1094 [==============================] - 122s 111ms/step - total_training_loss: 219.1487 - training_reconstruction_loss: 216.2475 - training_kl_loss: 2.9011\n",
            "Epoch 46/50\n",
            "1094/1094 [==============================] - 122s 112ms/step - total_training_loss: 218.2886 - training_reconstruction_loss: 215.3779 - training_kl_loss: 2.9105\n",
            "Epoch 47/50\n",
            "1094/1094 [==============================] - 122s 111ms/step - total_training_loss: 217.3234 - training_reconstruction_loss: 214.4189 - training_kl_loss: 2.9046\n",
            "Epoch 48/50\n",
            "1094/1094 [==============================] - 121s 111ms/step - total_training_loss: 217.7165 - training_reconstruction_loss: 214.7992 - training_kl_loss: 2.9173\n",
            "Epoch 49/50\n",
            "1094/1094 [==============================] - 122s 111ms/step - total_training_loss: 217.8093 - training_reconstruction_loss: 214.8916 - training_kl_loss: 2.9178\n",
            "Epoch 50/50\n",
            "1094/1094 [==============================] - 122s 112ms/step - total_training_loss: 216.3484 - training_reconstruction_loss: 213.4281 - training_kl_loss: 2.9202\n"
          ]
        },
        {
          "output_type": "execute_result",
          "data": {
            "text/plain": [
              "<keras.src.callbacks.History at 0x7bea0820d300>"
            ]
          },
          "metadata": {},
          "execution_count": 19
        }
      ]
    },
    {
      "cell_type": "code",
      "source": [
        "vae.save_weights(\"/content/drive/MyDrive/Colab Notebooks/maestro-midi/checkpoints/mycheckpoints\")"
      ],
      "metadata": {
        "id": "xWU0zSfUFEGl"
      },
      "execution_count": 20,
      "outputs": []
    },
    {
      "cell_type": "markdown",
      "source": [
        "### Model Evaluation"
      ],
      "metadata": {
        "id": "wBDt-W5m63R8"
      }
    },
    {
      "cell_type": "code",
      "source": [
        "results = vae.evaluate(test_data)"
      ],
      "metadata": {
        "id": "qRUJY-KlJXfk",
        "colab": {
          "base_uri": "https://localhost:8080/"
        },
        "outputId": "f7cd942d-29fe-46b8-da83-4bc7cbe9f97b"
      },
      "execution_count": 21,
      "outputs": [
        {
          "output_type": "stream",
          "name": "stdout",
          "text": [
            "844/844 [==============================] - 32s 36ms/step - total_testing_loss: 358.4363 - testing_reconstruction_loss: 355.4949 - testing_kl_loss: 2.9413\n"
          ]
        }
      ]
    },
    {
      "cell_type": "code",
      "source": [
        "print(\"Total Testing Loss: \", results[2])\n",
        "print(\"Testing Reconstruction Loss: \", results[1])\n",
        "print(\"Testing KL Loss: \", results[0])"
      ],
      "metadata": {
        "id": "E_uwfOrap6ax",
        "colab": {
          "base_uri": "https://localhost:8080/"
        },
        "outputId": "c4033368-b622-4fc9-9c18-4a46f45a8ae1"
      },
      "execution_count": 22,
      "outputs": [
        {
          "output_type": "stream",
          "name": "stdout",
          "text": [
            "Total Testing Loss:  360.4271240234375\n",
            "Testing Reconstruction Loss:  357.4717102050781\n",
            "Testing KL Loss:  2.9550857543945312\n"
          ]
        }
      ]
    },
    {
      "cell_type": "code",
      "source": [
        "vae2 = VAE(encoder, decoder)\n",
        "vae2.compile(optimizer=keras.optimizers.Adam(), run_eagerly=True)\n",
        "vae2.load_weights(\"/content/drive/MyDrive/Colab Notebooks/maestro-midi/checkpoints/mycheckpoints\")"
      ],
      "metadata": {
        "id": "B700n2-xE6Ww",
        "colab": {
          "base_uri": "https://localhost:8080/"
        },
        "outputId": "6f957634-756a-4222-a268-04930bdb1349"
      },
      "execution_count": 23,
      "outputs": [
        {
          "output_type": "execute_result",
          "data": {
            "text/plain": [
              "<tensorflow.python.checkpoint.checkpoint.CheckpointLoadStatus at 0x7bea002a81f0>"
            ]
          },
          "metadata": {},
          "execution_count": 23
        }
      ]
    },
    {
      "cell_type": "code",
      "source": [
        "results = vae2.evaluate(test_data)"
      ],
      "metadata": {
        "id": "c5V-MSzEFdu2",
        "colab": {
          "base_uri": "https://localhost:8080/"
        },
        "outputId": "e219aff2-ef40-4ce7-ccd0-cad0d52a4201"
      },
      "execution_count": 24,
      "outputs": [
        {
          "output_type": "stream",
          "name": "stdout",
          "text": [
            "844/844 [==============================] - 29s 35ms/step - total_testing_loss: 358.4372 - testing_reconstruction_loss: 355.4957 - testing_kl_loss: 2.9413\n"
          ]
        }
      ]
    },
    {
      "cell_type": "code",
      "source": [
        "print(\"Total Testing Loss: \", results[2])\n",
        "print(\"Testing Reconstruction Loss: \", results[1])\n",
        "print(\"Testing KL Loss: \", results[0])"
      ],
      "metadata": {
        "id": "IEJCxqZUFeW2",
        "colab": {
          "base_uri": "https://localhost:8080/"
        },
        "outputId": "1106815c-71fc-433f-8f33-ae72c329df64"
      },
      "execution_count": 25,
      "outputs": [
        {
          "output_type": "stream",
          "name": "stdout",
          "text": [
            "Total Testing Loss:  360.3906555175781\n",
            "Testing Reconstruction Loss:  357.4354248046875\n",
            "Testing KL Loss:  2.9550857543945312\n"
          ]
        }
      ]
    },
    {
      "cell_type": "markdown",
      "source": [
        "## Prediction Time"
      ],
      "metadata": {
        "id": "wJbh-TYv9uU5"
      }
    },
    {
      "cell_type": "code",
      "source": [
        "test_data = test_data[:1000] / 127\n",
        "print(test_data)"
      ],
      "metadata": {
        "colab": {
          "base_uri": "https://localhost:8080/"
        },
        "id": "Va4e9k9MTH1x",
        "outputId": "69dbb83a-2578-4b1b-c7bc-a14a645586bc"
      },
      "execution_count": 26,
      "outputs": [
        {
          "output_type": "stream",
          "name": "stdout",
          "text": [
            "[[[1. 1. 1. ... 1. 1. 1.]\n",
            "  [1. 1. 1. ... 1. 1. 1.]\n",
            "  [1. 1. 1. ... 1. 1. 1.]\n",
            "  ...\n",
            "  [1. 1. 1. ... 1. 1. 1.]\n",
            "  [1. 1. 1. ... 1. 1. 1.]\n",
            "  [1. 1. 1. ... 1. 1. 1.]]\n",
            "\n",
            " [[1. 1. 1. ... 1. 1. 1.]\n",
            "  [1. 1. 1. ... 1. 1. 1.]\n",
            "  [1. 1. 1. ... 1. 1. 1.]\n",
            "  ...\n",
            "  [1. 1. 1. ... 1. 1. 1.]\n",
            "  [1. 1. 1. ... 1. 1. 1.]\n",
            "  [1. 1. 1. ... 1. 1. 1.]]\n",
            "\n",
            " [[1. 1. 1. ... 1. 1. 1.]\n",
            "  [1. 1. 1. ... 1. 1. 1.]\n",
            "  [1. 1. 1. ... 1. 1. 1.]\n",
            "  ...\n",
            "  [1. 1. 1. ... 1. 1. 1.]\n",
            "  [1. 1. 1. ... 1. 1. 1.]\n",
            "  [1. 1. 1. ... 1. 1. 1.]]\n",
            "\n",
            " ...\n",
            "\n",
            " [[1. 1. 1. ... 1. 1. 1.]\n",
            "  [1. 1. 1. ... 1. 1. 1.]\n",
            "  [1. 1. 1. ... 1. 1. 1.]\n",
            "  ...\n",
            "  [1. 1. 1. ... 1. 1. 1.]\n",
            "  [1. 1. 1. ... 1. 1. 1.]\n",
            "  [1. 1. 1. ... 1. 1. 1.]]\n",
            "\n",
            " [[1. 1. 1. ... 1. 1. 1.]\n",
            "  [1. 1. 1. ... 1. 1. 1.]\n",
            "  [1. 1. 1. ... 1. 1. 1.]\n",
            "  ...\n",
            "  [1. 1. 1. ... 1. 1. 1.]\n",
            "  [1. 1. 1. ... 1. 1. 1.]\n",
            "  [1. 1. 1. ... 1. 1. 1.]]\n",
            "\n",
            " [[1. 1. 1. ... 1. 1. 1.]\n",
            "  [1. 1. 1. ... 1. 1. 1.]\n",
            "  [1. 1. 1. ... 1. 1. 1.]\n",
            "  ...\n",
            "  [1. 1. 1. ... 1. 1. 1.]\n",
            "  [1. 1. 1. ... 1. 1. 1.]\n",
            "  [1. 1. 1. ... 1. 1. 1.]]]\n"
          ]
        }
      ]
    },
    {
      "cell_type": "code",
      "source": [
        "print(test_data.shape)\n"
      ],
      "metadata": {
        "colab": {
          "base_uri": "https://localhost:8080/"
        },
        "id": "iGk4DXm9Tjxj",
        "outputId": "5bdc535e-fbe4-4620-8afe-86464fa073d2"
      },
      "execution_count": 27,
      "outputs": [
        {
          "output_type": "stream",
          "name": "stdout",
          "text": [
            "(1000, 128, 128)\n"
          ]
        }
      ]
    },
    {
      "cell_type": "code",
      "source": [
        "z_mean, z_log_var = vae2.encoder.predict(test_data)\n",
        "z = vae2.sampler(z_mean, z_log_var)\n",
        "predictions = vae2.decoder.predict(z)"
      ],
      "metadata": {
        "colab": {
          "base_uri": "https://localhost:8080/"
        },
        "id": "ww7PH-ACO_Op",
        "outputId": "c37755ff-c3eb-4e70-ae0c-256d059e6dcf"
      },
      "execution_count": 28,
      "outputs": [
        {
          "output_type": "stream",
          "name": "stdout",
          "text": [
            "32/32 [==============================] - 0s 6ms/step\n",
            "32/32 [==============================] - 0s 12ms/step\n"
          ]
        }
      ]
    },
    {
      "cell_type": "code",
      "source": [
        "predictions.shape"
      ],
      "metadata": {
        "colab": {
          "base_uri": "https://localhost:8080/"
        },
        "id": "MYkskwTaVetq",
        "outputId": "0e29fb75-8696-4d31-f72d-3e9cd6d06a61"
      },
      "execution_count": 29,
      "outputs": [
        {
          "output_type": "execute_result",
          "data": {
            "text/plain": [
              "(1000, 128, 128, 1)"
            ]
          },
          "metadata": {},
          "execution_count": 29
        }
      ]
    },
    {
      "cell_type": "code",
      "source": [
        "preds =  np.squeeze(predictions, axis=-1)\n",
        "preds = preds * 127 - 127\n",
        "\n",
        "print(preds.shape)"
      ],
      "metadata": {
        "colab": {
          "base_uri": "https://localhost:8080/"
        },
        "id": "LaBZq0UaPNXE",
        "outputId": "19ef58c1-5ece-44aa-b0a8-5cf4018064c5"
      },
      "execution_count": 50,
      "outputs": [
        {
          "output_type": "stream",
          "name": "stdout",
          "text": [
            "(1000, 128, 128)\n"
          ]
        }
      ]
    },
    {
      "cell_type": "code",
      "source": [
        "!pip install pypianoroll"
      ],
      "metadata": {
        "colab": {
          "base_uri": "https://localhost:8080/"
        },
        "id": "LxxOKUZ2VzOr",
        "outputId": "d8cf4b2b-7b20-4de9-a795-d875a710a22c"
      },
      "execution_count": 31,
      "outputs": [
        {
          "output_type": "stream",
          "name": "stdout",
          "text": [
            "Collecting pypianoroll\n",
            "  Downloading pypianoroll-1.0.4-py3-none-any.whl (26 kB)\n",
            "Requirement already satisfied: numpy>=1.12.0 in /usr/local/lib/python3.10/dist-packages (from pypianoroll) (1.23.5)\n",
            "Requirement already satisfied: scipy>=1.0.0 in /usr/local/lib/python3.10/dist-packages (from pypianoroll) (1.11.4)\n",
            "Collecting pretty-midi>=0.2.8 (from pypianoroll)\n",
            "  Downloading pretty_midi-0.2.10.tar.gz (5.6 MB)\n",
            "\u001b[2K     \u001b[90m━━━━━━━━━━━━━━━━━━━━━━━━━━━━━━━━━━━━━━━━\u001b[0m \u001b[32m5.6/5.6 MB\u001b[0m \u001b[31m22.0 MB/s\u001b[0m eta \u001b[36m0:00:00\u001b[0m\n",
            "\u001b[?25h  Preparing metadata (setup.py) ... \u001b[?25l\u001b[?25hdone\n",
            "Requirement already satisfied: matplotlib>=1.5 in /usr/local/lib/python3.10/dist-packages (from pypianoroll) (3.7.1)\n",
            "Requirement already satisfied: contourpy>=1.0.1 in /usr/local/lib/python3.10/dist-packages (from matplotlib>=1.5->pypianoroll) (1.2.0)\n",
            "Requirement already satisfied: cycler>=0.10 in /usr/local/lib/python3.10/dist-packages (from matplotlib>=1.5->pypianoroll) (0.12.1)\n",
            "Requirement already satisfied: fonttools>=4.22.0 in /usr/local/lib/python3.10/dist-packages (from matplotlib>=1.5->pypianoroll) (4.46.0)\n",
            "Requirement already satisfied: kiwisolver>=1.0.1 in /usr/local/lib/python3.10/dist-packages (from matplotlib>=1.5->pypianoroll) (1.4.5)\n",
            "Requirement already satisfied: packaging>=20.0 in /usr/local/lib/python3.10/dist-packages (from matplotlib>=1.5->pypianoroll) (23.2)\n",
            "Requirement already satisfied: pillow>=6.2.0 in /usr/local/lib/python3.10/dist-packages (from matplotlib>=1.5->pypianoroll) (9.4.0)\n",
            "Requirement already satisfied: pyparsing>=2.3.1 in /usr/local/lib/python3.10/dist-packages (from matplotlib>=1.5->pypianoroll) (3.1.1)\n",
            "Requirement already satisfied: python-dateutil>=2.7 in /usr/local/lib/python3.10/dist-packages (from matplotlib>=1.5->pypianoroll) (2.8.2)\n",
            "Collecting mido>=1.1.16 (from pretty-midi>=0.2.8->pypianoroll)\n",
            "  Downloading mido-1.3.1-py3-none-any.whl (54 kB)\n",
            "\u001b[2K     \u001b[90m━━━━━━━━━━━━━━━━━━━━━━━━━━━━━━━━━━━━━━━━\u001b[0m \u001b[32m54.6/54.6 kB\u001b[0m \u001b[31m7.4 MB/s\u001b[0m eta \u001b[36m0:00:00\u001b[0m\n",
            "\u001b[?25hRequirement already satisfied: six in /usr/local/lib/python3.10/dist-packages (from pretty-midi>=0.2.8->pypianoroll) (1.16.0)\n",
            "Building wheels for collected packages: pretty-midi\n",
            "  Building wheel for pretty-midi (setup.py) ... \u001b[?25l\u001b[?25hdone\n",
            "  Created wheel for pretty-midi: filename=pretty_midi-0.2.10-py3-none-any.whl size=5592284 sha256=09e9e7c56c52b7287e71c78ce1f1ea5706f7c11a087e83cc0b978f1f35e44f56\n",
            "  Stored in directory: /root/.cache/pip/wheels/cd/a5/30/7b8b7f58709f5150f67f98fde4b891ebf0be9ef07a8af49f25\n",
            "Successfully built pretty-midi\n",
            "Installing collected packages: mido, pretty-midi, pypianoroll\n",
            "Successfully installed mido-1.3.1 pretty-midi-0.2.10 pypianoroll-1.0.4\n"
          ]
        }
      ]
    },
    {
      "cell_type": "code",
      "source": [
        "import pypianoroll as ppr"
      ],
      "metadata": {
        "id": "5uIDxvBDVzZw"
      },
      "execution_count": 32,
      "outputs": []
    },
    {
      "cell_type": "code",
      "source": [
        "def array_to_pianoroll(arr, chunk_size=128):\n",
        "    \"\"\"\n",
        "    Convert a 2D array to a pypianoroll.Multitrack object.\n",
        "    \"\"\"\n",
        "\n",
        "    # Create a Multitrack object with one track\n",
        "    multitrack = ppr.Multitrack(resolution = 8)\n",
        "    track = ppr.BinaryTrack(pianoroll=arr)\n",
        "    multitrack.tracks.append(track)\n",
        "\n",
        "    return multitrack"
      ],
      "metadata": {
        "id": "7G8EKyVOXfsr"
      },
      "execution_count": 33,
      "outputs": []
    },
    {
      "cell_type": "markdown",
      "source": [
        "#### single_sample"
      ],
      "metadata": {
        "id": "yh586AGLyGJQ"
      }
    },
    {
      "cell_type": "code",
      "source": [
        "pred1 = preds[40]\n",
        "ppr.write(\"vae_single.mid\", array_to_pianoroll(pred1))"
      ],
      "metadata": {
        "id": "-ssi7dRfWrYs"
      },
      "execution_count": 51,
      "outputs": []
    },
    {
      "cell_type": "code",
      "source": [
        "!pip install music21"
      ],
      "metadata": {
        "colab": {
          "base_uri": "https://localhost:8080/"
        },
        "id": "H6gfL6sROFhM",
        "outputId": "682d4f47-2d73-4c2b-a1e9-51e66f5ccc12"
      },
      "execution_count": 44,
      "outputs": [
        {
          "output_type": "stream",
          "name": "stdout",
          "text": [
            "Requirement already satisfied: music21 in /usr/local/lib/python3.10/dist-packages (9.1.0)\n",
            "Requirement already satisfied: chardet in /usr/local/lib/python3.10/dist-packages (from music21) (5.2.0)\n",
            "Requirement already satisfied: joblib in /usr/local/lib/python3.10/dist-packages (from music21) (1.3.2)\n",
            "Requirement already satisfied: jsonpickle in /usr/local/lib/python3.10/dist-packages (from music21) (3.0.2)\n",
            "Requirement already satisfied: matplotlib in /usr/local/lib/python3.10/dist-packages (from music21) (3.7.1)\n",
            "Requirement already satisfied: more-itertools in /usr/local/lib/python3.10/dist-packages (from music21) (10.1.0)\n",
            "Requirement already satisfied: numpy in /usr/local/lib/python3.10/dist-packages (from music21) (1.23.5)\n",
            "Requirement already satisfied: requests in /usr/local/lib/python3.10/dist-packages (from music21) (2.31.0)\n",
            "Requirement already satisfied: webcolors>=1.5 in /usr/local/lib/python3.10/dist-packages (from music21) (1.13)\n",
            "Requirement already satisfied: contourpy>=1.0.1 in /usr/local/lib/python3.10/dist-packages (from matplotlib->music21) (1.2.0)\n",
            "Requirement already satisfied: cycler>=0.10 in /usr/local/lib/python3.10/dist-packages (from matplotlib->music21) (0.12.1)\n",
            "Requirement already satisfied: fonttools>=4.22.0 in /usr/local/lib/python3.10/dist-packages (from matplotlib->music21) (4.46.0)\n",
            "Requirement already satisfied: kiwisolver>=1.0.1 in /usr/local/lib/python3.10/dist-packages (from matplotlib->music21) (1.4.5)\n",
            "Requirement already satisfied: packaging>=20.0 in /usr/local/lib/python3.10/dist-packages (from matplotlib->music21) (23.2)\n",
            "Requirement already satisfied: pillow>=6.2.0 in /usr/local/lib/python3.10/dist-packages (from matplotlib->music21) (9.4.0)\n",
            "Requirement already satisfied: pyparsing>=2.3.1 in /usr/local/lib/python3.10/dist-packages (from matplotlib->music21) (3.1.1)\n",
            "Requirement already satisfied: python-dateutil>=2.7 in /usr/local/lib/python3.10/dist-packages (from matplotlib->music21) (2.8.2)\n",
            "Requirement already satisfied: charset-normalizer<4,>=2 in /usr/local/lib/python3.10/dist-packages (from requests->music21) (3.3.2)\n",
            "Requirement already satisfied: idna<4,>=2.5 in /usr/local/lib/python3.10/dist-packages (from requests->music21) (3.6)\n",
            "Requirement already satisfied: urllib3<3,>=1.21.1 in /usr/local/lib/python3.10/dist-packages (from requests->music21) (2.0.7)\n",
            "Requirement already satisfied: certifi>=2017.4.17 in /usr/local/lib/python3.10/dist-packages (from requests->music21) (2023.11.17)\n",
            "Requirement already satisfied: six>=1.5 in /usr/local/lib/python3.10/dist-packages (from python-dateutil>=2.7->matplotlib->music21) (1.16.0)\n"
          ]
        }
      ]
    },
    {
      "cell_type": "code",
      "source": [
        "from music21 import converter\n",
        "\n",
        "def play_midi_file(midi_filename):\n",
        "    # Load the MIDI file\n",
        "    midi_stream = converter.parse(midi_filename)\n",
        "\n",
        "    # Play the MIDI stream\n",
        "    midi_stream.show('midi')"
      ],
      "metadata": {
        "id": "t5BgRxgyNblv"
      },
      "execution_count": 45,
      "outputs": []
    },
    {
      "cell_type": "code",
      "source": [
        "midi_filename = \"./vae_single.mid\"\n",
        "play_midi_file(midi_filename)"
      ],
      "metadata": {
        "colab": {
          "base_uri": "https://localhost:8080/",
          "height": 134
        },
        "id": "D3UX7rB1ODOX",
        "outputId": "934f0501-9070-4ab2-ef26-b3f7f8a029ed"
      },
      "execution_count": 52,
      "outputs": [
        {
          "output_type": "display_data",
          "data": {
            "text/plain": [
              "<IPython.core.display.HTML object>"
            ],
            "text/html": [
              "\n",
              "        <div id=\"midiPlayerDiv15593\"></div>\n",
              "        <link rel=\"stylesheet\" href=\"https://cuthbertLab.github.io/music21j/css/m21.css\">\n",
              "        \n",
              "        <script\n",
              "        src=\"https://cdnjs.cloudflare.com/ajax/libs/require.js/2.3.6/require.min.js\"\n",
              "        ></script>\n",
              "    \n",
              "        <script>\n",
              "        function midiPlayerDiv15593_play() {\n",
              "            const rq = require.config({\n",
              "                paths: {\n",
              "                    'music21': 'https://cuthbertLab.github.io/music21j/releases/music21.debug',\n",
              "                }\n",
              "            });\n",
              "            rq(['music21'], function(music21) {\n",
              "                mp = new music21.miditools.MidiPlayer();\n",
              "                mp.addPlayer(\"#midiPlayerDiv15593\");\n",
              "                mp.base64Load(\"data:audio/midi;base64,TVRoZAAAAAYAAQACJ2BNVHJrAAAAFAD/UQMHoSAA/1gEBAIYCM5g/y8ATVRyawAAD7wA/wMFUGlhbm8AwAAA4ABAAMAAzmCQGkAAkB9AAJAgQACQIUAAkCJAAJAjQACQJUAAkCZAAJAnQACQKUAAkCtAAJAtQACQL0AAkDBAAJAxQACQMkAAkDNAAJBAQACQQUAAkEJAAJBEQACQRUAAkGJAAJBkQACQZUAAkGZAAJAeQACQH0AAkCJAAJAsQACQLkAAkDBAAJBEQACQRkAAkEdAAJBiQACQY0AAkGRAAJBIQACQSUAAkEtAAJBNQACQSkAAkEtAAJBNQACQTEAAkE5AAJBPQACQUEAAkFFAAJBUQACQVUAAkFJAAJBTQACQVkAAkFdAAJBYQACQWUAAkFpAAJBbQACQXEAAkF5AAJBdQACQX0AAkGBAAJBhQJNYgBoAAIAfAACAIAAAgCEAAIAiAACAIwAAgCUAAIAmAACAJwAAgCkAAIArAACALQAAgC8AAIAwAACAMQAAgDIAAIAzAACAQAAAgEEAAIBCAACARAAAgEUAAIBiAACAZAAAgGUAAIBmAACAHgAAgB8AAIAiAACALAAAgC4AAIAwAACARAAAgEYAAIBHAACAYgAAgGMAAIBkAKcwkCxAAJAuQACQR0AAkCJAAJBGQACQR0AAkGRAk1iALAAAgC4AAIBHAACAIgAAkGJAAJBjQJNYgEgAAIBJAACASwAAgE0AAIBKAACASwAAgE0AAIBGAACARwAAkGZAhkiQTUAAkGVAmiCQSECGSIBMAACQIECNEIBIAIZIgE0AAIAgAJNYkGdAhkiATgAAgE8AAIBQAI0QkDFAAJA1QI0QgFIAAIBTAACAYgCGSJA0QACQNkAAkDdAAJBSQACQMkAAkDNAAJA4QACQOUAAkDpAAJA+QACQQEAAkEFAAJBCQACQTUAAkD9AAJBPQACQUEAAkFNAjRCAZwCGSIAxAACANQAAkENAhkiANAAAgDYAAIA3AACAUgAAgDIAAIAzAACAOAAAgDkAAIA6AACAPgAAgEAAAIBBAACAQgAAgE0AjRCAQwAAkGJAhkiQLkAAkGdAAJBMQACQTUAAkFJAjRCQTkCGSIBMAACATQCGSJBMQACQTUAAkD1AAJBAQACQQUAAkB5AAJAgQACQIkAAkChAAJAqQACQLEAAkC1AAJA+QACQQkAAkENAAJBEQACQRUAAkEZAAJBJQACQS0CGSJAXQACQN0AAkD1AAJAeQACQKEAAkD5AAJBCQACQQ0AAkERAAJBFQACQS0CNEIBNAACAPQAAgEAAAIBBAACAHgAAgCAAAIAiAACAKAAAgCoAAIAsAACALQAAgD4AAIBCAACAQwAAgEQAAIBFAACARgAAgEkAAIBLAIZIgFEAAIBUAACAVQAAgFYAAIBXAACAWAAAgFkAAIBaAACAWwAAgFwAAIBeAACAXQAAgF8AAIBgAACAYQAAgGQAAIBjAACAZgAAgGUAAIA/AACATwAAgFAAAIBTAACAYgAAgC4AAIBnAACAUgAAgE4AAIBMAACQZkAAkGVAAJBMQACQUUAAkFRAAJBVQACQT0AAkFBAAJBWQACQV0AAkFhAAJBZQACQWkAAkFtAAJBcQACQXkAAkF1AAJBfQACQYEAAkGFAAJBkQACQY0AAkFNAAJBSQACQTkAAkBdAAJA3QACQPUAAkB5AAJAoQACQPkAAkEJAAJBDQACQREAAkEVAAJBLQIZIgBcAAIA3AACAPQAAgB4AAIAoAACAPgAAgEIAAIBDAACARAAAgEUAAIBLAJNYkCpAmiCAZQAAgCoAhkiATwAAgFAAAJAhQACQJEAAkEZAAJAqQACQJ0AAkClAAJA3QACQS0AAkE1AAJBPQACQIEAAkCZAAJBGQACQZUAAkElAk1iAFwAAgDcAAIA9AACAHgAAgCgAAIA+AACAQgAAgEMAAIBEAACARQAAgEsAAIAhAACAJAAAgEYAAIAgAACAJgAAgEYAAIBlAACQKECGSIBkAI0QgF0AAIBfAACAYAAAgGEAAJArQACQYUAAkDhAAJA2QACQJkAAkFBAhkiQSkCNEIArAACAYQAAgDgAAJA6QACQOEAAkEZAjRCAYwCGSJAhQACQLUAAkDVAAJArQACQQECNEIBmAIZIgCoAAIAnAACAKQAAgDcAAIAoAACAIQAAgC0AAIA1AACAKwAAgEAAAJBIQI0QgDoAAIA4AACARgCGSIBYAACAWQAAgFoAAIBbAACAXAAAgF4AAIA2AACAJgCGSIBIAI0QgFYAAIBXAI0QkEhAAJBWQIZIkCdAAJBWQI0QgEgAAIBWAIZIgFEAAIBUAACAVQAAgFMAAIBSAACAJwAAgFYAAJAnQACQKEAAkEZAk1iAUAAAgCcAAIAoAACQQ0CGSJBIQI0QgEMAAJAnQACQKUAAkD9AAJBBQI0QkCZAAJA9QACQOEAAkEJAAJBAQACQQkCGSIBPAACQKEAAkD5AAJBHQJNYgE4AAIBLAACATQAAgEkAAIBKAACARgAAgEgAAIAnAACAKQAAgD8AAIBBAACAJgAAgD0AAIA4AACAQgAAgEAAAIBCAIHEcIAoAACAPgAAgEcAyBiATAAAkDZAAJAnQACQKUAAkEtAAJBNQACQKEAAkD5AAJBHQACQSEAAkD9AAJBBQACQSkAAkENAAJBFQACQREAAkCpAAJArQACQPECaIIA2AACQM0AAkDpAAJA9QACQQkAAkElAjRCQLUCNEIA6AACAPQAAkCxAAJAuQACQN0AAkEBAAJAxQACQNUCGSIA8AACQHkAAkDBAAJAxQACQMkAAkDVAAJA4QACQOUAAkDpAAJAmQACQL0AAkCBAAJAiQACQNkCTWIBAAACAMQAAgDUAAIAeAACAMAAAgDEAAIAyAACANQAAgDgAAIA5AACAOgAAkCNAAJAkQACQJUAAkDRAk1iATQAAgCgAAIA+AACARwCGSJAoQACQMUAAkDVAAJAhQJNYgEIAhkiQQEAAkDJAAJBHQIZIkDhAjRCALgAAgDcAAIBAAACAMgAAgEcAhkiAPwAAgEEAAIBDAACARQAAgEQAAIAoAACAMQAAgDUAAIAhAACQV0CGSIBJAI0QgC8AAIAgAACAIgAAgCMAAIAkAACAJQCGSIBXAACQIEAAkDdAAJA7QIZIgDgAhkiALQAAkChAAJA1QACQREAAkEZAhkiAIAAAgDcAAIA7AIZIkC9AAJA4QACQV0AAkEBAhkiAJgAAgCgAAIA1AACARAAAgEYAAJAtQACQN0AAkDlAAJA6QACQQUAAkENAAJAyQACQPEAAkD1AAJBAQACQQkAAkDFAAJBXQACQO0AAkD9AAJBNQACQLkAAkD5Ak1iAJwAAgCkAAIAqAACAKwAAgDgAAIBXAACAQAAAgC0AAIA3AACAOQAAgDoAAIBBAACAQwAAgDIAAIA8AACAPQAAgEAAAIBCAACQMECTWIA0AACAMAAAkElAhkiQLUAAkDxAAJA9QACQNUAAkDpAAJBFQJoggDoAAIBFAACQF0AAkBRAAJAVQACQNEAAkDlAAJBHQACQV0AAkDhAAJA6QACQREAAkEZAAJAqQACQNEAAkDdAAJA5QACQQEAAkEJAAJBFQACQQUAAkENAhkiAMQAAgFcAjRCAFwAAgBQAAIAVAACANAAAgDkAAIBHAACAVwCGSIAzAACALAAAgDYAAIAvAACAOwAAgD8AAIBNAACALgAAgD4AAIBJAACALQAAgDwAAIA9AACANQAAgDgAAIA6AACARAAAgEYAAIAqAACANAAAgDcAAIA5AACAQAAAgEIAAIBFAIZIgEgA1SiAQQAAgEMAgd8QgEsAAIBKAACQTkAAkCxAAJAvQACQSUAAkCdAAJA7QACQP0AAkE1AAJAuQACQPkAAkEFAAJBDQACQTECGSIA7AI0QgE4AAJAiQACQKkAAkDpAhkiQKUAAkCtAAJBEQACQRkAAkD1AAJAmQIZIgC8AhkiASQAAgCIAAIAqAACAOgCNEJAqQACQLUAAkDtAAJBFQACQKEAAkEJAAJBOQACQQECGSJAkQACQJUAAkDNAAJA3QACQOEAAkElAAJBPQACQVEAAkCJAAJA6QACQPEAAkC9AhkiAPQAAgCYAhkiAOwAAgEUAAIAoAACAQgAAgE4AhkiAJAAAgCUAAIAzAACANwAAgDgAAIBJAACATwAAgFQAAIAiAACAOgAAgDwAk1iQQkAAkB5AAJA8QIZIkD1AAJBFQI0QgEIAAIAeAACAPACGSIApAIZIkDtAAJA8QACQR0AAkChAAJBCQACQSEAAkClAAJAwQACQMUAAkDJAAJA4QACQPEAAkElAAJBCQACQSEAAkClAAJAwQACQMUAAkDJAAJBOQIZIkCNAAJAzQACQNECGSIArAACARAAAgEYAAIA9AACARQCGSIBBAACAQwAAgCoAAIAtAACAOwAAgDwAAIBHAACAKAAAgEIAAIBIAACAKQAAgDAAAIAxAACAMgAAgDgAAIA8AACASQAAgEIAAIBIAACAKQAAgDAAAIAxAACAMgCGSIA+AACQH0AAkDdAk1iAHwAAgDcAAJAhQACQIkAAkDdAAJA1QACQNkCGSJApQACQMkAAkEFAAJBEQIZIgCwAAIAuAACAQACGSIAnAACQIEAAkB5AAJBEQACQSUAAkDJAhkiAKQAAgDIAAIBBAACARACNEIAvAACAIAAAgB4AAIBEAACQH0AAkEFAAJAnQACQOEAAkDBAAJAxQACQOkAAkEFAjRCAIQAAgCIAhkiAPwAAgB8AAIBBAACAMQAAgDoAAIBBAACQSEAAkCZAjRCATgCGSJAuQACQOUAAkDpAAJAlQIZIkDFAAJA8QIZIgDQAhkiAMAAAkDtAAJBOQACQT0AAkClAAJAwQACQPECGSIAxAACAPACNEIAjAACAMwAAgEgAAIAmAACQIUAAkChAAJAvQACQMUAAkD9AAJBHQACQHkAAkB9AAJAgQACQIkAAkCRAAJAqQACQK0AAkCxAAJAtQACQNEAAkD1AAJA+QACQQEAAkEFAAJBCQACQQ0AAkERAAJBFQACQRkAAkFBAAJBRQACQUkAAkFNAAJBUQACQVUAAkFZAAJBXQIZIgEkAAIAyAACAOwAAgE4AAIBPAACAKQAAgDAAAIA8AIZIgDcAAIA1AACANgAAgC4AAIA5AACAOgAAgCUAhkiATQAAgEwAAIAnAACAOAAAgCEAAIAoAACALwAAgDEAAIA/AACARwAAgB4AAIAfAACAIAAAgCIAAIAkAACAKgAAgCsAAIAsAACALQAAgDQAAIA9AACAPgAAgEAAAIBBAACAQgAAgEMAAIBEAACARQAAgEYAAIBQAACAUQAAgFIAAIBTAACAVAAAgFUAAIBWAACAVwDOYP8vAA==\");\n",
              "            });\n",
              "        }\n",
              "        if (typeof require === 'undefined') {\n",
              "            setTimeout(midiPlayerDiv15593_play, 2000);\n",
              "        } else {\n",
              "            midiPlayerDiv15593_play();\n",
              "        }\n",
              "        </script>"
            ]
          },
          "metadata": {}
        }
      ]
    },
    {
      "cell_type": "markdown",
      "source": [
        "#### concatenating samples"
      ],
      "metadata": {
        "id": "K9gEofpsyuMI"
      }
    },
    {
      "cell_type": "code",
      "source": [
        "p2 = np.concatenate((preds[:, :, :], preds[:, :, :]), axis=1)\n",
        "\n",
        "p2 = preds.reshape((-1, 128))\n",
        "p2.shape"
      ],
      "metadata": {
        "colab": {
          "base_uri": "https://localhost:8080/"
        },
        "id": "HHhpwcSvyxmj",
        "outputId": "06a160c6-a524-4257-9c6b-c0b96983a5c7"
      },
      "execution_count": 38,
      "outputs": [
        {
          "output_type": "execute_result",
          "data": {
            "text/plain": [
              "(128000, 128)"
            ]
          },
          "metadata": {},
          "execution_count": 38
        }
      ]
    },
    {
      "cell_type": "code",
      "source": [
        "ppr.write(\"vae_whole.mid\", array_to_pianoroll(p2))"
      ],
      "metadata": {
        "id": "Gi4rMcREy-Qu"
      },
      "execution_count": 39,
      "outputs": []
    },
    {
      "cell_type": "markdown",
      "source": [
        "#### random generation"
      ],
      "metadata": {
        "id": "D_uMmNUwzad8"
      }
    },
    {
      "cell_type": "code",
      "source": [
        "z =  tf.keras.backend.random_normal(shape=(1, latent_dim))\n",
        "x_decoded = vae2.decoder.predict(z)\n",
        "p3 =  np.squeeze(x_decoded[0], axis=-1) * 127 - 127\n",
        "print(p3.shape)"
      ],
      "metadata": {
        "colab": {
          "base_uri": "https://localhost:8080/"
        },
        "id": "SuUvt_Xnn4Mp",
        "outputId": "c84351b5-d3d4-47bb-8f1c-a1e9bfbd274b"
      },
      "execution_count": 40,
      "outputs": [
        {
          "output_type": "stream",
          "name": "stdout",
          "text": [
            "1/1 [==============================] - 0s 267ms/step\n",
            "(128, 128)\n"
          ]
        }
      ]
    },
    {
      "cell_type": "code",
      "source": [
        "ppr.write(\"vae_random.mid\", array_to_pianoroll(p3))"
      ],
      "metadata": {
        "id": "3O0eZl8vpE0Y"
      },
      "execution_count": 41,
      "outputs": []
    },
    {
      "cell_type": "code",
      "source": [
        "midi_filename = \"./vae_random.mid\"\n",
        "play_midi_file(midi_filename)"
      ],
      "metadata": {
        "colab": {
          "base_uri": "https://localhost:8080/",
          "height": 134
        },
        "id": "jBaGc4ompkRz",
        "outputId": "20e3bf9c-a49c-4772-e2d8-80b533433ba6"
      },
      "execution_count": 42,
      "outputs": [
        {
          "output_type": "display_data",
          "data": {
            "text/plain": [
              "<IPython.core.display.HTML object>"
            ],
            "text/html": [
              "\n",
              "        <div id=\"midiPlayerDiv8096\"></div>\n",
              "        <link rel=\"stylesheet\" href=\"https://cuthbertLab.github.io/music21j/css/m21.css\">\n",
              "        \n",
              "        <script\n",
              "        src=\"https://cdnjs.cloudflare.com/ajax/libs/require.js/2.3.6/require.min.js\"\n",
              "        ></script>\n",
              "    \n",
              "        <script>\n",
              "        function midiPlayerDiv8096_play() {\n",
              "            const rq = require.config({\n",
              "                paths: {\n",
              "                    'music21': 'https://cuthbertLab.github.io/music21j/releases/music21.debug',\n",
              "                }\n",
              "            });\n",
              "            rq(['music21'], function(music21) {\n",
              "                mp = new music21.miditools.MidiPlayer();\n",
              "                mp.addPlayer(\"#midiPlayerDiv8096\");\n",
              "                mp.base64Load(\"data:audio/midi;base64,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\");\n",
              "            });\n",
              "        }\n",
              "        if (typeof require === 'undefined') {\n",
              "            setTimeout(midiPlayerDiv8096_play, 2000);\n",
              "        } else {\n",
              "            midiPlayerDiv8096_play();\n",
              "        }\n",
              "        </script>"
            ]
          },
          "metadata": {}
        }
      ]
    },
    {
      "cell_type": "code",
      "source": [],
      "metadata": {
        "id": "naiK_ydYz6tB"
      },
      "execution_count": 42,
      "outputs": []
    }
  ],
  "metadata": {
    "kernelspec": {
      "display_name": "Python 3",
      "name": "python3"
    },
    "language_info": {
      "codemirror_mode": {
        "name": "ipython",
        "version": 3
      },
      "file_extension": ".py",
      "mimetype": "text/x-python",
      "name": "python",
      "nbconvert_exporter": "python",
      "pygments_lexer": "ipython3",
      "version": "3.11.6"
    },
    "colab": {
      "provenance": [],
      "gpuType": "T4"
    },
    "accelerator": "GPU"
  },
  "nbformat": 4,
  "nbformat_minor": 0
}