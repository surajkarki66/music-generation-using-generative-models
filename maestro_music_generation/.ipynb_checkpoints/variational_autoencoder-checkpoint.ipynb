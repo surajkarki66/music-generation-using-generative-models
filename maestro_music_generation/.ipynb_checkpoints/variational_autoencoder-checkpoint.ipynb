{
  "cells": [
    {
      "cell_type": "markdown",
      "source": [
        "## Imports"
      ],
      "metadata": {
        "id": "QTXUlW2GaB-f"
      }
    },
    {
      "cell_type": "code",
      "execution_count": 20,
      "metadata": {
        "_cell_guid": "79c7e3d0-c299-4dcb-8224-4455121ee9b0",
        "_uuid": "d629ff2d2480ee46fbb7e2d37f6b5fab8052498a",
        "id": "5b7bOimMaAyw"
      },
      "outputs": [],
      "source": [
        "import pickle\n",
        "import numpy as np\n",
        "import tensorflow as tf\n",
        "import matplotlib.pyplot as plt\n",
        "\n",
        "from tensorflow import keras\n",
        "from tensorflow.keras import layers"
      ]
    },
    {
      "cell_type": "markdown",
      "source": [
        "## Mounting Google Drive"
      ],
      "metadata": {
        "id": "1mj5UzfDa0FG"
      }
    },
    {
      "cell_type": "code",
      "source": [
        "from google.colab import drive\n",
        "drive.mount('/content/drive/')"
      ],
      "metadata": {
        "colab": {
          "base_uri": "https://localhost:8080/"
        },
        "id": "9k60gh0Fay3N",
        "outputId": "789053a1-90d6-407d-aff1-0f2795eab94b"
      },
      "execution_count": 21,
      "outputs": [
        {
          "output_type": "stream",
          "name": "stdout",
          "text": [
            "Drive already mounted at /content/drive/; to attempt to forcibly remount, call drive.mount(\"/content/drive/\", force_remount=True).\n"
          ]
        }
      ]
    },
    {
      "cell_type": "markdown",
      "source": [
        "## Loading the dataset"
      ],
      "metadata": {
        "id": "xrpq4DFMcvqx"
      }
    },
    {
      "cell_type": "code",
      "source": [
        "train_path = \"/content/drive/MyDrive/Colab Notebooks/maestro-midi/train_128.pickle\"\n",
        "test_path = \"/content/drive/MyDrive/Colab Notebooks/maestro-midi/test_128.pickle\""
      ],
      "metadata": {
        "id": "36fQEirlczDl"
      },
      "execution_count": 22,
      "outputs": []
    },
    {
      "cell_type": "code",
      "source": [
        "with open(train_path, 'rb') as train_pickle:\n",
        "    train_data = pickle.load(train_pickle)"
      ],
      "metadata": {
        "id": "PpSyusysdYFO"
      },
      "execution_count": 23,
      "outputs": []
    },
    {
      "cell_type": "code",
      "source": [
        "with open(test_path, 'rb') as test_pickle:\n",
        "    test_data =  pickle.load(test_pickle)"
      ],
      "metadata": {
        "id": "yS98azex8sZi"
      },
      "execution_count": 24,
      "outputs": []
    },
    {
      "cell_type": "code",
      "source": [
        "print(\"Length of train data: \", len(train_data))\n",
        "print(\"Length of test data: \", len(test_data))"
      ],
      "metadata": {
        "colab": {
          "base_uri": "https://localhost:8080/"
        },
        "id": "HhNdU1r2kB1X",
        "outputId": "dd7dd21e-af52-4ed0-e798-62468311417f"
      },
      "execution_count": 25,
      "outputs": [
        {
          "output_type": "stream",
          "name": "stdout",
          "text": [
            "Length of train data:  214858\n",
            "Length of test data:  26984\n"
          ]
        }
      ]
    },
    {
      "cell_type": "markdown",
      "source": [
        "When we take whole training data the free google collab session is crashing because of high RAM usage. To solve this problem for now, we are going to take less no. of samples"
      ],
      "metadata": {
        "id": "ehaKetkpkUH4"
      }
    },
    {
      "cell_type": "code",
      "source": [
        "train_data = train_data[:70000]"
      ],
      "metadata": {
        "id": "_i4Lhbz4PVXb"
      },
      "execution_count": 26,
      "outputs": []
    },
    {
      "cell_type": "code",
      "source": [
        "print(\"Length of train data: \", len(train_data))"
      ],
      "metadata": {
        "colab": {
          "base_uri": "https://localhost:8080/"
        },
        "id": "N7f2t6NyXfcQ",
        "outputId": "5ed7fd0b-4b0a-4120-a517-334a1b0c2047"
      },
      "execution_count": 27,
      "outputs": [
        {
          "output_type": "stream",
          "name": "stdout",
          "text": [
            "Length of train data:  70000\n"
          ]
        }
      ]
    },
    {
      "cell_type": "markdown",
      "source": [
        "Lets plot sample data"
      ],
      "metadata": {
        "id": "0RART8rlk2kZ"
      }
    },
    {
      "cell_type": "code",
      "source": [
        "import matplotlib.pyplot as plt\n",
        "\n",
        "# Take the first 10 images from the list\n",
        "selected_images = train_data[:10]\n",
        "\n",
        "# Create a 2x5 grid for plotting 10 images\n",
        "rows, cols = 2, 5\n",
        "\n",
        "# Set up the subplots\n",
        "fig, axes = plt.subplots(rows, cols, figsize=(10, 4))\n",
        "\n",
        "# Iterate through the selected images and plot them\n",
        "for i in range(rows):\n",
        "    for j in range(cols):\n",
        "        index = i * cols + j\n",
        "        axes[i, j].imshow(selected_images[index], cmap='gray')  # Assuming grayscale images\n",
        "        axes[i, j].axis('off')  # Turn off axis labels\n",
        "        axes[i, j].set_title(f'Sample {index + 1}')\n",
        "\n",
        "plt.show()\n"
      ],
      "metadata": {
        "colab": {
          "base_uri": "https://localhost:8080/",
          "height": 360
        },
        "id": "2ETZvbmykzMO",
        "outputId": "2bac2749-c6d7-47ca-f7a9-7bfb0d72611e"
      },
      "execution_count": 28,
      "outputs": [
        {
          "output_type": "display_data",
          "data": {
            "text/plain": [
              "<Figure size 1000x400 with 10 Axes>"
            ],
            "image/png": "[encoded data removed]"
          },
          "metadata": {}
        }
      ]
    },
    {
      "cell_type": "code",
      "source": [
        "train_data = 127 - train_data"
      ],
      "metadata": {
        "id": "rOHJbqmikzcW"
      },
      "execution_count": 29,
      "outputs": []
    },
    {
      "cell_type": "code",
      "source": [
        "test_data = 127 - test_data"
      ],
      "metadata": {
        "id": "Rr79ooFuwWw-"
      },
      "execution_count": 30,
      "outputs": []
    },
    {
      "cell_type": "markdown",
      "source": [
        "## Building the architecture"
      ],
      "metadata": {
        "id": "NEKha-4jeFg_"
      }
    },
    {
      "cell_type": "markdown",
      "source": [
        "### Sampling Layer"
      ],
      "metadata": {
        "id": "yhqyWz51RzOi"
      }
    },
    {
      "cell_type": "code",
      "source": [
        "import tensorflow as tf\n",
        "\n",
        "class Sampler(layers.Layer):\n",
        "    def call(self, z_mean, z_log_var):\n",
        "        batch_size = tf.shape(z_mean)[0]\n",
        "        z_size = tf.shape(z_mean)[1]\n",
        "        epsilon = tf.random.normal(shape=(batch_size, z_size))\n",
        "        return z_mean + tf.exp(0.5 * z_log_var) * epsilon"
      ],
      "metadata": {
        "id": "IK0_bwwtR1Xd"
      },
      "execution_count": 31,
      "outputs": []
    },
    {
      "cell_type": "code",
      "source": [
        "mean = np.array([[0.1,1.2,0.2,0.8]], dtype=np.float32)\n",
        "standard_deviation = np.array([[0.2,0.5,0.8,1.3]], dtype=np.float32)\n",
        "z = Sampler()(mean, standard_deviation)"
      ],
      "metadata": {
        "id": "EY-I_Mw0SA3Q"
      },
      "execution_count": 32,
      "outputs": []
    },
    {
      "cell_type": "code",
      "source": [
        "print(z.numpy())\n",
        "print(z.shape)"
      ],
      "metadata": {
        "colab": {
          "base_uri": "https://localhost:8080/"
        },
        "id": "W9yi0QppSA__",
        "outputId": "0b369941-4445-4444-a076-80451c2eff5d"
      },
      "execution_count": 33,
      "outputs": [
        {
          "output_type": "stream",
          "name": "stdout",
          "text": [
            "[[-0.39526027 -0.83871055 -0.09738375  0.15309429]]\n",
            "(1, 4)\n"
          ]
        }
      ]
    },
    {
      "cell_type": "markdown",
      "source": [
        "### Encoder"
      ],
      "metadata": {
        "id": "vQOCh80VSPNa"
      }
    },
    {
      "cell_type": "code",
      "source": [
        "latent_dim = 256\n",
        "\n",
        "encoder_inputs = keras.Input(shape=(128, 128, 1))\n",
        "x = layers.Conv2D(32, 3, activation=\"relu\", strides=2, padding=\"same\")(encoder_inputs)\n",
        "x = layers.Conv2D(64, 3, activation=\"relu\", strides=2, padding=\"same\")(x)\n",
        "x = layers.Conv2D(128, 3, activation=\"relu\", strides=2, padding=\"same\")(x)\n",
        "\n",
        "x = layers.Flatten()(x)\n",
        "x = layers.Dense(512, activation=\"relu\")(x)\n",
        "z_mean = layers.Dense(latent_dim, name=\"z_mean\")(x)\n",
        "z_log_var = layers.Dense(latent_dim, name=\"z_log_var\")(x)\n",
        "encoder = keras.Model(encoder_inputs, [z_mean, z_log_var], name=\"encoder\")"
      ],
      "metadata": {
        "id": "EZ1V6w0tSRqa"
      },
      "execution_count": 34,
      "outputs": []
    },
    {
      "cell_type": "code",
      "source": [
        "encoder.summary()"
      ],
      "metadata": {
        "colab": {
          "base_uri": "https://localhost:8080/"
        },
        "id": "6SfL1aMXUhA8",
        "outputId": "abbab57c-b7e2-4f78-c4ca-b97110082f68"
      },
      "execution_count": 35,
      "outputs": [
        {
          "output_type": "stream",
          "name": "stdout",
          "text": [
            "Model: \"encoder\"\n",
            "__________________________________________________________________________________________________\n",
            " Layer (type)                Output Shape                 Param #   Connected to                  \n",
            "==================================================================================================\n",
            " input_3 (InputLayer)        [(None, 128, 128, 1)]        0         []                            \n",
            "                                                                                                  \n",
            " conv2d_4 (Conv2D)           (None, 64, 64, 32)           320       ['input_3[0][0]']             \n",
            "                                                                                                  \n",
            " conv2d_5 (Conv2D)           (None, 32, 32, 64)           18496     ['conv2d_4[0][0]']            \n",
            "                                                                                                  \n",
            " conv2d_6 (Conv2D)           (None, 16, 16, 128)          73856     ['conv2d_5[0][0]']            \n",
            "                                                                                                  \n",
            " flatten_1 (Flatten)         (None, 32768)                0         ['conv2d_6[0][0]']            \n",
            "                                                                                                  \n",
            " dense_2 (Dense)             (None, 512)                  1677772   ['flatten_1[0][0]']           \n",
            "                                                          8                                       \n",
            "                                                                                                  \n",
            " z_mean (Dense)              (None, 256)                  131328    ['dense_2[0][0]']             \n",
            "                                                                                                  \n",
            " z_log_var (Dense)           (None, 256)                  131328    ['dense_2[0][0]']             \n",
            "                                                                                                  \n",
            "==================================================================================================\n",
            "Total params: 17133056 (65.36 MB)\n",
            "Trainable params: 17133056 (65.36 MB)\n",
            "Non-trainable params: 0 (0.00 Byte)\n",
            "__________________________________________________________________________________________________\n"
          ]
        }
      ]
    },
    {
      "cell_type": "markdown",
      "source": [
        "### Decoder"
      ],
      "metadata": {
        "id": "XENznW0iUsdR"
      }
    },
    {
      "cell_type": "code",
      "source": [
        "latent_inputs = keras.Input(shape=(latent_dim,))\n",
        "x = layers.Dense(16 * 16 * 128, activation=\"relu\")(latent_inputs)\n",
        "x = layers.Reshape((16, 16, 128))(x)\n",
        "\n",
        "x = layers.Conv2DTranspose(128, 3, activation=\"relu\", strides=2, padding=\"same\")(x)\n",
        "x = layers.Conv2DTranspose(64, 3, activation=\"relu\", strides=2, padding=\"same\")(x)\n",
        "x = layers.Conv2DTranspose(32, 3, activation=\"relu\", strides=2, padding=\"same\")(x)\n",
        "\n",
        "decoder_outputs = layers.Conv2D(1, 3, activation=\"sigmoid\", padding=\"same\")(x)\n",
        "decoder = keras.Model(latent_inputs, decoder_outputs, name=\"decoder\")"
      ],
      "metadata": {
        "id": "qxLVv45nUuOr"
      },
      "execution_count": 36,
      "outputs": []
    },
    {
      "cell_type": "code",
      "source": [
        "decoder.summary()"
      ],
      "metadata": {
        "colab": {
          "base_uri": "https://localhost:8080/"
        },
        "id": "ySpopM3vWUzl",
        "outputId": "dde5c7fc-f95e-454a-9338-102ac6ef64b7"
      },
      "execution_count": 37,
      "outputs": [
        {
          "output_type": "stream",
          "name": "stdout",
          "text": [
            "Model: \"decoder\"\n",
            "_________________________________________________________________\n",
            " Layer (type)                Output Shape              Param #   \n",
            "=================================================================\n",
            " input_4 (InputLayer)        [(None, 256)]             0         \n",
            "                                                                 \n",
            " dense_3 (Dense)             (None, 32768)             8421376   \n",
            "                                                                 \n",
            " reshape_1 (Reshape)         (None, 16, 16, 128)       0         \n",
            "                                                                 \n",
            " conv2d_transpose_3 (Conv2D  (None, 32, 32, 128)       147584    \n",
            " Transpose)                                                      \n",
            "                                                                 \n",
            " conv2d_transpose_4 (Conv2D  (None, 64, 64, 64)        73792     \n",
            " Transpose)                                                      \n",
            "                                                                 \n",
            " conv2d_transpose_5 (Conv2D  (None, 128, 128, 32)      18464     \n",
            " Transpose)                                                      \n",
            "                                                                 \n",
            " conv2d_7 (Conv2D)           (None, 128, 128, 1)       289       \n",
            "                                                                 \n",
            "=================================================================\n",
            "Total params: 8661505 (33.04 MB)\n",
            "Trainable params: 8661505 (33.04 MB)\n",
            "Non-trainable params: 0 (0.00 Byte)\n",
            "_________________________________________________________________\n"
          ]
        }
      ]
    },
    {
      "cell_type": "markdown",
      "source": [
        "### Architecture"
      ],
      "metadata": {
        "id": "pV3e7QCotcm8"
      }
    },
    {
      "cell_type": "code",
      "source": [
        "class VAE(keras.Model):\n",
        "    def __init__(self, encoder, decoder, **kwargs):\n",
        "        super().__init__(**kwargs)\n",
        "        self.encoder = encoder\n",
        "        self.decoder = decoder\n",
        "        self.sampler = Sampler()\n",
        "        self.total_loss_tracker = keras.metrics.Mean(name=\"total_loss\")\n",
        "        self.reconstruction_loss_tracker = keras.metrics.Mean(\n",
        "            name=\"reconstruction_loss\")\n",
        "        self.kl_loss_tracker = keras.metrics.Mean(name=\"kl_loss\")\n",
        "\n",
        "    @property\n",
        "    def metrics(self):\n",
        "        return [self.total_loss_tracker,\n",
        "                self.reconstruction_loss_tracker,\n",
        "                self.kl_loss_tracker]\n",
        "\n",
        "    def train_step(self, data):\n",
        "        data = data / 127\n",
        "        data = np.expand_dims(data, -1)\n",
        "        with tf.GradientTape() as tape:\n",
        "            z_mean, z_log_var = self.encoder(data)\n",
        "            z = self.sampler(z_mean, z_log_var)\n",
        "            reconstruction = self.decoder(z)\n",
        "            reconstruction_loss = tf.reduce_mean(\n",
        "                tf.reduce_sum(\n",
        "                    keras.losses.binary_crossentropy(data, reconstruction),\n",
        "                    axis=(1, 2)\n",
        "                )\n",
        "            )\n",
        "            kl_loss = -0.5 * (1 + z_log_var - tf.square(z_mean) - tf.exp(z_log_var))\n",
        "            total_loss = reconstruction_loss + tf.reduce_mean(kl_loss)\n",
        "        grads = tape.gradient(total_loss, self.trainable_weights)\n",
        "        self.optimizer.apply_gradients(zip(grads, self.trainable_weights))\n",
        "        self.total_loss_tracker.update_state(total_loss)\n",
        "        self.reconstruction_loss_tracker.update_state(reconstruction_loss)\n",
        "        self.kl_loss_tracker.update_state(kl_loss)\n",
        "        return {\n",
        "            \"total_training_loss\": self.total_loss_tracker.result(),\n",
        "            \"training_reconstruction_loss\": self.reconstruction_loss_tracker.result(),\n",
        "            \"training_kl_loss\": self.kl_loss_tracker.result(),\n",
        "        }\n",
        "\n",
        "    def test_step(self, data):\n",
        "        data = data / 127\n",
        "        data = np.expand_dims(data, -1)\n",
        "        z_mean, z_log_var = self.encoder(data)\n",
        "        z = self.sampler(z_mean, z_log_var)\n",
        "        reconstruction = self.decoder(z)\n",
        "\n",
        "        reconstruction_loss = tf.reduce_mean(\n",
        "            tf.reduce_sum(\n",
        "                keras.losses.binary_crossentropy(data, reconstruction),\n",
        "                axis=(1, 2)\n",
        "            )\n",
        "        )\n",
        "        kl_loss = -0.5 * (1 + z_log_var - tf.square(z_mean) - tf.exp(z_log_var))\n",
        "        total_loss = reconstruction_loss + tf.reduce_mean(kl_loss)\n",
        "\n",
        "        self.total_loss_tracker.update_state(total_loss)\n",
        "        self.reconstruction_loss_tracker.update_state(reconstruction_loss)\n",
        "        self.kl_loss_tracker.update_state(kl_loss)\n",
        "\n",
        "        return {\n",
        "            \"total_testing_loss\": self.total_loss_tracker.result(),\n",
        "            \"testing_reconstruction_loss\": self.reconstruction_loss_tracker.result(),\n",
        "            \"testing_kl_loss\": self.kl_loss_tracker.result(),\n",
        "        }"
      ],
      "metadata": {
        "id": "kwCw98CbWk-1"
      },
      "execution_count": 38,
      "outputs": []
    },
    {
      "cell_type": "markdown",
      "source": [
        "## Training Model"
      ],
      "metadata": {
        "id": "ng4VVXtL1s_w"
      }
    },
    {
      "cell_type": "code",
      "source": [
        "vae = VAE(encoder, decoder)\n",
        "vae.compile(optimizer=keras.optimizers.Adam(), run_eagerly=True)\n",
        "vae.fit(train_data, epochs=50, batch_size=64)"
      ],
      "metadata": {
        "colab": {
          "base_uri": "https://localhost:8080/"
        },
        "id": "n0hirK83W5wc",
        "outputId": "98e940d2-8c08-43bf-fc3b-83347d468235"
      },
      "execution_count": 39,
      "outputs": [
        {
          "output_type": "stream",
          "name": "stdout",
          "text": [
            "Epoch 1/50\n"
          ]
        },
        {
          "output_type": "stream",
          "name": "stderr",
          "text": [
            "WARNING:tensorflow:5 out of the last 5 calls to <function _BaseOptimizer._update_step_xla at 0x7c4d43bbdfc0> triggered tf.function retracing. Tracing is expensive and the excessive number of tracings could be due to (1) creating @tf.function repeatedly in a loop, (2) passing tensors with different shapes, (3) passing Python objects instead of tensors. For (1), please define your @tf.function outside of the loop. For (2), @tf.function has reduce_retracing=True option that can avoid unnecessary retracing. For (3), please refer to https://www.tensorflow.org/guide/function#controlling_retracing and https://www.tensorflow.org/api_docs/python/tf/function for  more details.\n",
            "WARNING:tensorflow:6 out of the last 6 calls to <function _BaseOptimizer._update_step_xla at 0x7c4d43bbdfc0> triggered tf.function retracing. Tracing is expensive and the excessive number of tracings could be due to (1) creating @tf.function repeatedly in a loop, (2) passing tensors with different shapes, (3) passing Python objects instead of tensors. For (1), please define your @tf.function outside of the loop. For (2), @tf.function has reduce_retracing=True option that can avoid unnecessary retracing. For (3), please refer to https://www.tensorflow.org/guide/function#controlling_retracing and https://www.tensorflow.org/api_docs/python/tf/function for  more details.\n"
          ]
        },
        {
          "output_type": "stream",
          "name": "stdout",
          "text": [
            "1094/1094 [==============================] - 147s 125ms/step - total_training_loss: 2101212.0243 - training_reconstruction_loss: 1991.7545 - training_kl_loss: 2099216.8402\n",
            "Epoch 2/50\n",
            "1094/1094 [==============================] - 134s 123ms/step - total_training_loss: 535.3166 - training_reconstruction_loss: 533.9520 - training_kl_loss: 1.3648\n",
            "Epoch 3/50\n",
            "1094/1094 [==============================] - 134s 122ms/step - total_training_loss: 498.5679 - training_reconstruction_loss: 497.1734 - training_kl_loss: 1.3944\n",
            "Epoch 4/50\n",
            "1094/1094 [==============================] - 135s 123ms/step - total_training_loss: 482.8051 - training_reconstruction_loss: 481.1268 - training_kl_loss: 1.6782\n",
            "Epoch 5/50\n",
            "1094/1094 [==============================] - 134s 123ms/step - total_training_loss: 460.0207 - training_reconstruction_loss: 457.9729 - training_kl_loss: 2.0479\n",
            "Epoch 6/50\n",
            "1094/1094 [==============================] - 134s 122ms/step - total_training_loss: 398.4732 - training_reconstruction_loss: 395.8889 - training_kl_loss: 2.5843\n",
            "Epoch 7/50\n",
            "1094/1094 [==============================] - 134s 122ms/step - total_training_loss: 357.2936 - training_reconstruction_loss: 354.3611 - training_kl_loss: 2.9325\n",
            "Epoch 8/50\n",
            "1094/1094 [==============================] - 134s 122ms/step - total_training_loss: 332.3082 - training_reconstruction_loss: 329.2061 - training_kl_loss: 3.1021\n",
            "Epoch 9/50\n",
            "1094/1094 [==============================] - 134s 123ms/step - total_training_loss: 314.0347 - training_reconstruction_loss: 310.8861 - training_kl_loss: 3.1486\n",
            "Epoch 10/50\n",
            "1094/1094 [==============================] - 135s 124ms/step - total_training_loss: 299.5326 - training_reconstruction_loss: 296.4082 - training_kl_loss: 3.1244\n",
            "Epoch 11/50\n",
            "1094/1094 [==============================] - 134s 123ms/step - total_training_loss: 288.5642 - training_reconstruction_loss: 285.4831 - training_kl_loss: 3.0812\n",
            "Epoch 12/50\n",
            "1094/1094 [==============================] - 133s 122ms/step - total_training_loss: 280.7968 - training_reconstruction_loss: 277.7483 - training_kl_loss: 3.0484\n",
            "Epoch 13/50\n",
            "1094/1094 [==============================] - 133s 122ms/step - total_training_loss: 274.2438 - training_reconstruction_loss: 271.2311 - training_kl_loss: 3.0128\n",
            "Epoch 14/50\n",
            "1094/1094 [==============================] - 133s 122ms/step - total_training_loss: 268.7554 - training_reconstruction_loss: 265.7918 - training_kl_loss: 2.9636\n",
            "Epoch 15/50\n",
            "1094/1094 [==============================] - 134s 123ms/step - total_training_loss: 264.1564 - training_reconstruction_loss: 261.2331 - training_kl_loss: 2.9233\n",
            "Epoch 16/50\n",
            "1094/1094 [==============================] - 133s 122ms/step - total_training_loss: 261.4728 - training_reconstruction_loss: 258.5752 - training_kl_loss: 2.8976\n",
            "Epoch 17/50\n",
            "1094/1094 [==============================] - 133s 122ms/step - total_training_loss: 257.9349 - training_reconstruction_loss: 255.0872 - training_kl_loss: 2.8477\n",
            "Epoch 18/50\n",
            "1094/1094 [==============================] - 134s 122ms/step - total_training_loss: 255.5797 - training_reconstruction_loss: 252.7132 - training_kl_loss: 2.8665\n",
            "Epoch 19/50\n",
            "1094/1094 [==============================] - 133s 122ms/step - total_training_loss: 254.6855 - training_reconstruction_loss: 251.8342 - training_kl_loss: 2.8513\n",
            "Epoch 20/50\n",
            "1094/1094 [==============================] - 133s 121ms/step - total_training_loss: 250.8620 - training_reconstruction_loss: 248.0414 - training_kl_loss: 2.8204\n",
            "Epoch 21/50\n",
            "1094/1094 [==============================] - 133s 122ms/step - total_training_loss: 249.3340 - training_reconstruction_loss: 246.5279 - training_kl_loss: 2.8061\n",
            "Epoch 22/50\n",
            "1094/1094 [==============================] - 134s 122ms/step - total_training_loss: 249.8976 - training_reconstruction_loss: 247.0888 - training_kl_loss: 2.8088\n",
            "Epoch 23/50\n",
            "1094/1094 [==============================] - 133s 122ms/step - total_training_loss: 247.5781 - training_reconstruction_loss: 244.7799 - training_kl_loss: 2.7982\n",
            "Epoch 24/50\n",
            "1094/1094 [==============================] - 134s 122ms/step - total_training_loss: 247.4772 - training_reconstruction_loss: 244.6251 - training_kl_loss: 2.8521\n",
            "Epoch 25/50\n",
            "1094/1094 [==============================] - 134s 122ms/step - total_training_loss: 244.5139 - training_reconstruction_loss: 241.7159 - training_kl_loss: 2.7978\n",
            "Epoch 26/50\n",
            "1094/1094 [==============================] - 134s 123ms/step - total_training_loss: 243.9007 - training_reconstruction_loss: 241.0860 - training_kl_loss: 2.8147\n",
            "Epoch 27/50\n",
            "1094/1094 [==============================] - 134s 123ms/step - total_training_loss: 243.0643 - training_reconstruction_loss: 240.2526 - training_kl_loss: 2.8116\n",
            "Epoch 28/50\n",
            "1094/1094 [==============================] - 134s 122ms/step - total_training_loss: 241.2512 - training_reconstruction_loss: 238.4392 - training_kl_loss: 2.8120\n",
            "Epoch 29/50\n",
            "1094/1094 [==============================] - 134s 123ms/step - total_training_loss: 240.8955 - training_reconstruction_loss: 238.0724 - training_kl_loss: 2.8232\n",
            "Epoch 30/50\n",
            "1094/1094 [==============================] - 134s 122ms/step - total_training_loss: 242.5729 - training_reconstruction_loss: 239.7369 - training_kl_loss: 2.8361\n",
            "Epoch 31/50\n",
            "1094/1094 [==============================] - 134s 123ms/step - total_training_loss: 239.0244 - training_reconstruction_loss: 236.1862 - training_kl_loss: 2.8382\n",
            "Epoch 32/50\n",
            "1094/1094 [==============================] - 134s 123ms/step - total_training_loss: 238.6212 - training_reconstruction_loss: 235.7914 - training_kl_loss: 2.8298\n",
            "Epoch 33/50\n",
            "1094/1094 [==============================] - 133s 122ms/step - total_training_loss: 237.2904 - training_reconstruction_loss: 234.4479 - training_kl_loss: 2.8424\n",
            "Epoch 34/50\n",
            "1094/1094 [==============================] - 133s 122ms/step - total_training_loss: 238.6894 - training_reconstruction_loss: 235.8493 - training_kl_loss: 2.8401\n",
            "Epoch 35/50\n",
            "1094/1094 [==============================] - 133s 121ms/step - total_training_loss: 237.0371 - training_reconstruction_loss: 234.1988 - training_kl_loss: 2.8381\n",
            "Epoch 36/50\n",
            "1094/1094 [==============================] - 133s 122ms/step - total_training_loss: 235.3794 - training_reconstruction_loss: 232.5306 - training_kl_loss: 2.8490\n",
            "Epoch 37/50\n",
            "1094/1094 [==============================] - 134s 123ms/step - total_training_loss: 237.4969 - training_reconstruction_loss: 234.6430 - training_kl_loss: 2.8540\n",
            "Epoch 38/50\n",
            "1094/1094 [==============================] - 135s 124ms/step - total_training_loss: 233.9660 - training_reconstruction_loss: 231.1152 - training_kl_loss: 2.8509\n",
            "Epoch 39/50\n",
            "1094/1094 [==============================] - 134s 123ms/step - total_training_loss: 232.6084 - training_reconstruction_loss: 229.7538 - training_kl_loss: 2.8548\n",
            "Epoch 40/50\n",
            "1094/1094 [==============================] - 134s 122ms/step - total_training_loss: 232.4749 - training_reconstruction_loss: 229.6099 - training_kl_loss: 2.8649\n",
            "Epoch 41/50\n",
            "1094/1094 [==============================] - 134s 122ms/step - total_training_loss: 232.0625 - training_reconstruction_loss: 229.1911 - training_kl_loss: 2.8715\n",
            "Epoch 42/50\n",
            "1094/1094 [==============================] - 134s 122ms/step - total_training_loss: 232.1867 - training_reconstruction_loss: 229.3054 - training_kl_loss: 2.8813\n",
            "Epoch 43/50\n",
            "1094/1094 [==============================] - 133s 122ms/step - total_training_loss: 233.1459 - training_reconstruction_loss: 230.2748 - training_kl_loss: 2.8711\n",
            "Epoch 44/50\n",
            "1094/1094 [==============================] - 133s 122ms/step - total_training_loss: 230.7732 - training_reconstruction_loss: 227.8883 - training_kl_loss: 2.8850\n",
            "Epoch 45/50\n",
            "1094/1094 [==============================] - 133s 122ms/step - total_training_loss: 229.2649 - training_reconstruction_loss: 226.3764 - training_kl_loss: 2.8884\n",
            "Epoch 46/50\n",
            "1094/1094 [==============================] - 133s 122ms/step - total_training_loss: 230.8083 - training_reconstruction_loss: 227.8972 - training_kl_loss: 2.9112\n",
            "Epoch 47/50\n",
            "1094/1094 [==============================] - 133s 122ms/step - total_training_loss: 228.5857 - training_reconstruction_loss: 225.6818 - training_kl_loss: 2.9039\n",
            "Epoch 48/50\n",
            "1094/1094 [==============================] - 133s 122ms/step - total_training_loss: 228.6731 - training_reconstruction_loss: 225.7526 - training_kl_loss: 2.9205\n",
            "Epoch 49/50\n",
            "1094/1094 [==============================] - 133s 121ms/step - total_training_loss: 227.2719 - training_reconstruction_loss: 224.3563 - training_kl_loss: 2.9156\n",
            "Epoch 50/50\n",
            "1094/1094 [==============================] - 133s 122ms/step - total_training_loss: 228.2361 - training_reconstruction_loss: 225.3052 - training_kl_loss: 2.9308\n"
          ]
        },
        {
          "output_type": "execute_result",
          "data": {
            "text/plain": [
              "<keras.src.callbacks.History at 0x7c4d43b90bb0>"
            ]
          },
          "metadata": {},
          "execution_count": 39
        }
      ]
    },
    {
      "cell_type": "code",
      "source": [
        "vae.save_weights(\"/content/drive/MyDrive/Colab Notebooks/maestro-midi/checkpoints/mycheckpoints\")"
      ],
      "metadata": {
        "id": "xWU0zSfUFEGl"
      },
      "execution_count": 40,
      "outputs": []
    },
    {
      "cell_type": "markdown",
      "source": [
        "### Model Evaluation"
      ],
      "metadata": {
        "id": "wBDt-W5m63R8"
      }
    },
    {
      "cell_type": "code",
      "source": [
        "results = vae.evaluate(test_data)"
      ],
      "metadata": {
        "id": "qRUJY-KlJXfk",
        "colab": {
          "base_uri": "https://localhost:8080/"
        },
        "outputId": "55a6a28a-3b3a-414a-9acb-09cf647ae658"
      },
      "execution_count": 41,
      "outputs": [
        {
          "output_type": "stream",
          "name": "stdout",
          "text": [
            "844/844 [==============================] - 33s 38ms/step - total_testing_loss: 361.5133 - testing_reconstruction_loss: 358.5608 - testing_kl_loss: 2.9527\n"
          ]
        }
      ]
    },
    {
      "cell_type": "code",
      "source": [
        "print(\"Total Testing Loss: \", results[2])\n",
        "print(\"Testing Reconstruction Loss: \", results[1])\n",
        "print(\"Testing KL Loss: \", results[0])"
      ],
      "metadata": {
        "id": "E_uwfOrap6ax",
        "colab": {
          "base_uri": "https://localhost:8080/"
        },
        "outputId": "e7e92048-c788-4465-ea39-c367f9988bc3"
      },
      "execution_count": 42,
      "outputs": [
        {
          "output_type": "stream",
          "name": "stdout",
          "text": [
            "Total Testing Loss:  361.08953857421875\n",
            "Testing Reconstruction Loss:  358.146728515625\n",
            "Testing KL Loss:  2.9423129558563232\n"
          ]
        }
      ]
    },
    {
      "cell_type": "code",
      "source": [
        "vae2 = VAE(encoder, decoder)\n",
        "vae2.compile(optimizer=keras.optimizers.Adam(), run_eagerly=True)\n",
        "vae2.load_weights(\"/content/drive/MyDrive/Colab Notebooks/maestro-midi/checkpoints/mycheckpoints\")"
      ],
      "metadata": {
        "id": "B700n2-xE6Ww",
        "colab": {
          "base_uri": "https://localhost:8080/"
        },
        "outputId": "21100780-16e5-4a1c-ae94-e8c96045f5c7"
      },
      "execution_count": 43,
      "outputs": [
        {
          "output_type": "execute_result",
          "data": {
            "text/plain": [
              "<tensorflow.python.checkpoint.checkpoint.CheckpointLoadStatus at 0x7c4d2cb79810>"
            ]
          },
          "metadata": {},
          "execution_count": 43
        }
      ]
    },
    {
      "cell_type": "code",
      "source": [
        "results = vae2.evaluate(test_data)"
      ],
      "metadata": {
        "id": "c5V-MSzEFdu2",
        "colab": {
          "base_uri": "https://localhost:8080/"
        },
        "outputId": "9d4603ea-7c09-4b64-8511-722218bce7c0"
      },
      "execution_count": 44,
      "outputs": [
        {
          "output_type": "stream",
          "name": "stdout",
          "text": [
            "844/844 [==============================] - 30s 36ms/step - total_testing_loss: 361.4807 - testing_reconstruction_loss: 358.5279 - testing_kl_loss: 2.9527\n"
          ]
        }
      ]
    },
    {
      "cell_type": "code",
      "source": [
        "print(\"Total Testing Loss: \", results[2])\n",
        "print(\"Testing Reconstruction Loss: \", results[1])\n",
        "print(\"Testing KL Loss: \", results[0])"
      ],
      "metadata": {
        "id": "IEJCxqZUFeW2",
        "colab": {
          "base_uri": "https://localhost:8080/"
        },
        "outputId": "73bdc71e-850b-4d81-9471-3683f4757065"
      },
      "execution_count": 45,
      "outputs": [
        {
          "output_type": "stream",
          "name": "stdout",
          "text": [
            "Total Testing Loss:  361.0836486816406\n",
            "Testing Reconstruction Loss:  358.1402282714844\n",
            "Testing KL Loss:  2.9423129558563232\n"
          ]
        }
      ]
    },
    {
      "cell_type": "markdown",
      "source": [
        "## Prediction Time"
      ],
      "metadata": {
        "id": "wJbh-TYv9uU5"
      }
    },
    {
      "cell_type": "code",
      "source": [
        "test_data = test_data[:1000] / 127\n",
        "print(test_data)"
      ],
      "metadata": {
        "colab": {
          "base_uri": "https://localhost:8080/"
        },
        "id": "Va4e9k9MTH1x",
        "outputId": "79c16154-3c91-4689-9914-21f379083326"
      },
      "execution_count": 46,
      "outputs": [
        {
          "output_type": "stream",
          "name": "stdout",
          "text": [
            "[[[1. 1. 1. ... 1. 1. 1.]\n",
            "  [1. 1. 1. ... 1. 1. 1.]\n",
            "  [1. 1. 1. ... 1. 1. 1.]\n",
            "  ...\n",
            "  [1. 1. 1. ... 1. 1. 1.]\n",
            "  [1. 1. 1. ... 1. 1. 1.]\n",
            "  [1. 1. 1. ... 1. 1. 1.]]\n",
            "\n",
            " [[1. 1. 1. ... 1. 1. 1.]\n",
            "  [1. 1. 1. ... 1. 1. 1.]\n",
            "  [1. 1. 1. ... 1. 1. 1.]\n",
            "  ...\n",
            "  [1. 1. 1. ... 1. 1. 1.]\n",
            "  [1. 1. 1. ... 1. 1. 1.]\n",
            "  [1. 1. 1. ... 1. 1. 1.]]\n",
            "\n",
            " [[1. 1. 1. ... 1. 1. 1.]\n",
            "  [1. 1. 1. ... 1. 1. 1.]\n",
            "  [1. 1. 1. ... 1. 1. 1.]\n",
            "  ...\n",
            "  [1. 1. 1. ... 1. 1. 1.]\n",
            "  [1. 1. 1. ... 1. 1. 1.]\n",
            "  [1. 1. 1. ... 1. 1. 1.]]\n",
            "\n",
            " ...\n",
            "\n",
            " [[1. 1. 1. ... 1. 1. 1.]\n",
            "  [1. 1. 1. ... 1. 1. 1.]\n",
            "  [1. 1. 1. ... 1. 1. 1.]\n",
            "  ...\n",
            "  [1. 1. 1. ... 1. 1. 1.]\n",
            "  [1. 1. 1. ... 1. 1. 1.]\n",
            "  [1. 1. 1. ... 1. 1. 1.]]\n",
            "\n",
            " [[1. 1. 1. ... 1. 1. 1.]\n",
            "  [1. 1. 1. ... 1. 1. 1.]\n",
            "  [1. 1. 1. ... 1. 1. 1.]\n",
            "  ...\n",
            "  [1. 1. 1. ... 1. 1. 1.]\n",
            "  [1. 1. 1. ... 1. 1. 1.]\n",
            "  [1. 1. 1. ... 1. 1. 1.]]\n",
            "\n",
            " [[1. 1. 1. ... 1. 1. 1.]\n",
            "  [1. 1. 1. ... 1. 1. 1.]\n",
            "  [1. 1. 1. ... 1. 1. 1.]\n",
            "  ...\n",
            "  [1. 1. 1. ... 1. 1. 1.]\n",
            "  [1. 1. 1. ... 1. 1. 1.]\n",
            "  [1. 1. 1. ... 1. 1. 1.]]]\n"
          ]
        }
      ]
    },
    {
      "cell_type": "code",
      "source": [
        "print(test_data.shape)\n"
      ],
      "metadata": {
        "colab": {
          "base_uri": "https://localhost:8080/"
        },
        "id": "iGk4DXm9Tjxj",
        "outputId": "aa3baf4c-481e-4be1-c527-e7059d4f6f9d"
      },
      "execution_count": 47,
      "outputs": [
        {
          "output_type": "stream",
          "name": "stdout",
          "text": [
            "(1000, 128, 128)\n"
          ]
        }
      ]
    },
    {
      "cell_type": "code",
      "source": [
        "z_mean, z_log_var = vae2.encoder.predict(test_data)\n",
        "z = vae2.sampler(z_mean, z_log_var)\n",
        "predictions = vae2.decoder.predict(z)"
      ],
      "metadata": {
        "colab": {
          "base_uri": "https://localhost:8080/"
        },
        "id": "ww7PH-ACO_Op",
        "outputId": "61bfe71d-c284-42ad-c453-12cd4563d2c1"
      },
      "execution_count": 48,
      "outputs": [
        {
          "output_type": "stream",
          "name": "stdout",
          "text": [
            "32/32 [==============================] - 0s 6ms/step\n",
            "32/32 [==============================] - 0s 12ms/step\n"
          ]
        }
      ]
    },
    {
      "cell_type": "code",
      "source": [
        "predictions.shape"
      ],
      "metadata": {
        "colab": {
          "base_uri": "https://localhost:8080/"
        },
        "id": "MYkskwTaVetq",
        "outputId": "8e88682c-185a-46fb-8057-26838cbb7cb1"
      },
      "execution_count": 49,
      "outputs": [
        {
          "output_type": "execute_result",
          "data": {
            "text/plain": [
              "(1000, 128, 128, 1)"
            ]
          },
          "metadata": {},
          "execution_count": 49
        }
      ]
    },
    {
      "cell_type": "code",
      "source": [
        "preds =  np.squeeze(predictions, axis=-1)\n",
        "preds = preds.astype(np.float32) * 127 - 127\n",
        "\n",
        "print(preds.shape)"
      ],
      "metadata": {
        "colab": {
          "base_uri": "https://localhost:8080/"
        },
        "id": "LaBZq0UaPNXE",
        "outputId": "28169f7b-2275-4eb9-c796-6ffd1894df60"
      },
      "execution_count": 70,
      "outputs": [
        {
          "output_type": "stream",
          "name": "stdout",
          "text": [
            "(1000, 128, 128)\n"
          ]
        }
      ]
    },
    {
      "cell_type": "code",
      "source": [
        "preds[0]"
      ],
      "metadata": {
        "colab": {
          "base_uri": "https://localhost:8080/"
        },
        "id": "6vhMB1_lPZEQ",
        "outputId": "a5b02653-0627-431f-ab54-a3cfd9634d88"
      },
      "execution_count": 71,
      "outputs": [
        {
          "output_type": "execute_result",
          "data": {
            "text/plain": [
              "array([[0., 0., 0., ..., 0., 0., 0.],\n",
              "       [0., 0., 0., ..., 0., 0., 0.],\n",
              "       [0., 0., 0., ..., 0., 0., 0.],\n",
              "       ...,\n",
              "       [0., 0., 0., ..., 0., 0., 0.],\n",
              "       [0., 0., 0., ..., 0., 0., 0.],\n",
              "       [0., 0., 0., ..., 0., 0., 0.]], dtype=float32)"
            ]
          },
          "metadata": {},
          "execution_count": 71
        }
      ]
    },
    {
      "cell_type": "code",
      "source": [
        "!pip install pypianoroll"
      ],
      "metadata": {
        "colab": {
          "base_uri": "https://localhost:8080/"
        },
        "id": "LxxOKUZ2VzOr",
        "outputId": "8594d2e2-37bf-41a2-aaa2-d68017188926"
      },
      "execution_count": 51,
      "outputs": [
        {
          "output_type": "stream",
          "name": "stdout",
          "text": [
            "Collecting pypianoroll\n",
            "  Downloading pypianoroll-1.0.4-py3-none-any.whl (26 kB)\n",
            "Requirement already satisfied: numpy>=1.12.0 in /usr/local/lib/python3.10/dist-packages (from pypianoroll) (1.23.5)\n",
            "Requirement already satisfied: scipy>=1.0.0 in /usr/local/lib/python3.10/dist-packages (from pypianoroll) (1.11.4)\n",
            "Collecting pretty-midi>=0.2.8 (from pypianoroll)\n",
            "  Downloading pretty_midi-0.2.10.tar.gz (5.6 MB)\n",
            "\u001b[2K     \u001b[90m━━━━━━━━━━━━━━━━━━━━━━━━━━━━━━━━━━━━━━━━\u001b[0m \u001b[32m5.6/5.6 MB\u001b[0m \u001b[31m9.3 MB/s\u001b[0m eta \u001b[36m0:00:00\u001b[0m\n",
            "\u001b[?25h  Preparing metadata (setup.py) ... \u001b[?25l\u001b[?25hdone\n",
            "Requirement already satisfied: matplotlib>=1.5 in /usr/local/lib/python3.10/dist-packages (from pypianoroll) (3.7.1)\n",
            "Requirement already satisfied: contourpy>=1.0.1 in /usr/local/lib/python3.10/dist-packages (from matplotlib>=1.5->pypianoroll) (1.2.0)\n",
            "Requirement already satisfied: cycler>=0.10 in /usr/local/lib/python3.10/dist-packages (from matplotlib>=1.5->pypianoroll) (0.12.1)\n",
            "Requirement already satisfied: fonttools>=4.22.0 in /usr/local/lib/python3.10/dist-packages (from matplotlib>=1.5->pypianoroll) (4.46.0)\n",
            "Requirement already satisfied: kiwisolver>=1.0.1 in /usr/local/lib/python3.10/dist-packages (from matplotlib>=1.5->pypianoroll) (1.4.5)\n",
            "Requirement already satisfied: packaging>=20.0 in /usr/local/lib/python3.10/dist-packages (from matplotlib>=1.5->pypianoroll) (23.2)\n",
            "Requirement already satisfied: pillow>=6.2.0 in /usr/local/lib/python3.10/dist-packages (from matplotlib>=1.5->pypianoroll) (9.4.0)\n",
            "Requirement already satisfied: pyparsing>=2.3.1 in /usr/local/lib/python3.10/dist-packages (from matplotlib>=1.5->pypianoroll) (3.1.1)\n",
            "Requirement already satisfied: python-dateutil>=2.7 in /usr/local/lib/python3.10/dist-packages (from matplotlib>=1.5->pypianoroll) (2.8.2)\n",
            "Collecting mido>=1.1.16 (from pretty-midi>=0.2.8->pypianoroll)\n",
            "  Downloading mido-1.3.1-py3-none-any.whl (54 kB)\n",
            "\u001b[2K     \u001b[90m━━━━━━━━━━━━━━━━━━━━━━━━━━━━━━━━━━━━━━━━\u001b[0m \u001b[32m54.6/54.6 kB\u001b[0m \u001b[31m7.7 MB/s\u001b[0m eta \u001b[36m0:00:00\u001b[0m\n",
            "\u001b[?25hRequirement already satisfied: six in /usr/local/lib/python3.10/dist-packages (from pretty-midi>=0.2.8->pypianoroll) (1.16.0)\n",
            "Building wheels for collected packages: pretty-midi\n",
            "  Building wheel for pretty-midi (setup.py) ... \u001b[?25l\u001b[?25hdone\n",
            "  Created wheel for pretty-midi: filename=pretty_midi-0.2.10-py3-none-any.whl size=5592284 sha256=1e7980ed0e40c0f5283c1bb78ad81255bd28bbd0cd310ebe3b6e71b108f3091b\n",
            "  Stored in directory: /root/.cache/pip/wheels/cd/a5/30/7b8b7f58709f5150f67f98fde4b891ebf0be9ef07a8af49f25\n",
            "Successfully built pretty-midi\n",
            "Installing collected packages: mido, pretty-midi, pypianoroll\n",
            "Successfully installed mido-1.3.1 pretty-midi-0.2.10 pypianoroll-1.0.4\n"
          ]
        }
      ]
    },
    {
      "cell_type": "code",
      "source": [
        "import pypianoroll as ppr"
      ],
      "metadata": {
        "id": "5uIDxvBDVzZw"
      },
      "execution_count": 52,
      "outputs": []
    },
    {
      "cell_type": "code",
      "source": [
        "def array_to_pianoroll(arr, chunk_size=128):\n",
        "    \"\"\"\n",
        "    Convert a 2D array to a pypianoroll.Multitrack object.\n",
        "    \"\"\"\n",
        "\n",
        "    # Create a Multitrack object with one track\n",
        "    multitrack = ppr.Multitrack(resolution = 8)\n",
        "    track = ppr.BinaryTrack(pianoroll=arr)\n",
        "    multitrack.tracks.append(track)\n",
        "\n",
        "    return multitrack"
      ],
      "metadata": {
        "id": "7G8EKyVOXfsr"
      },
      "execution_count": 53,
      "outputs": []
    },
    {
      "cell_type": "markdown",
      "source": [
        "#### single_sample"
      ],
      "metadata": {
        "id": "yh586AGLyGJQ"
      }
    },
    {
      "cell_type": "code",
      "source": [
        "pred1 = preds[40]\n",
        "ppr.write(\"vae_single.mid\", array_to_pianoroll(pred1))"
      ],
      "metadata": {
        "id": "-ssi7dRfWrYs"
      },
      "execution_count": 76,
      "outputs": []
    },
    {
      "cell_type": "code",
      "source": [
        "!pip install music21"
      ],
      "metadata": {
        "colab": {
          "base_uri": "https://localhost:8080/"
        },
        "id": "H6gfL6sROFhM",
        "outputId": "3f64741d-ef31-4c65-bcd0-1e2439387372"
      },
      "execution_count": 55,
      "outputs": [
        {
          "output_type": "stream",
          "name": "stdout",
          "text": [
            "Requirement already satisfied: music21 in /usr/local/lib/python3.10/dist-packages (9.1.0)\n",
            "Requirement already satisfied: chardet in /usr/local/lib/python3.10/dist-packages (from music21) (5.2.0)\n",
            "Requirement already satisfied: joblib in /usr/local/lib/python3.10/dist-packages (from music21) (1.3.2)\n",
            "Requirement already satisfied: jsonpickle in /usr/local/lib/python3.10/dist-packages (from music21) (3.0.2)\n",
            "Requirement already satisfied: matplotlib in /usr/local/lib/python3.10/dist-packages (from music21) (3.7.1)\n",
            "Requirement already satisfied: more-itertools in /usr/local/lib/python3.10/dist-packages (from music21) (10.1.0)\n",
            "Requirement already satisfied: numpy in /usr/local/lib/python3.10/dist-packages (from music21) (1.23.5)\n",
            "Requirement already satisfied: requests in /usr/local/lib/python3.10/dist-packages (from music21) (2.31.0)\n",
            "Requirement already satisfied: webcolors>=1.5 in /usr/local/lib/python3.10/dist-packages (from music21) (1.13)\n",
            "Requirement already satisfied: contourpy>=1.0.1 in /usr/local/lib/python3.10/dist-packages (from matplotlib->music21) (1.2.0)\n",
            "Requirement already satisfied: cycler>=0.10 in /usr/local/lib/python3.10/dist-packages (from matplotlib->music21) (0.12.1)\n",
            "Requirement already satisfied: fonttools>=4.22.0 in /usr/local/lib/python3.10/dist-packages (from matplotlib->music21) (4.46.0)\n",
            "Requirement already satisfied: kiwisolver>=1.0.1 in /usr/local/lib/python3.10/dist-packages (from matplotlib->music21) (1.4.5)\n",
            "Requirement already satisfied: packaging>=20.0 in /usr/local/lib/python3.10/dist-packages (from matplotlib->music21) (23.2)\n",
            "Requirement already satisfied: pillow>=6.2.0 in /usr/local/lib/python3.10/dist-packages (from matplotlib->music21) (9.4.0)\n",
            "Requirement already satisfied: pyparsing>=2.3.1 in /usr/local/lib/python3.10/dist-packages (from matplotlib->music21) (3.1.1)\n",
            "Requirement already satisfied: python-dateutil>=2.7 in /usr/local/lib/python3.10/dist-packages (from matplotlib->music21) (2.8.2)\n",
            "Requirement already satisfied: charset-normalizer<4,>=2 in /usr/local/lib/python3.10/dist-packages (from requests->music21) (3.3.2)\n",
            "Requirement already satisfied: idna<4,>=2.5 in /usr/local/lib/python3.10/dist-packages (from requests->music21) (3.6)\n",
            "Requirement already satisfied: urllib3<3,>=1.21.1 in /usr/local/lib/python3.10/dist-packages (from requests->music21) (2.0.7)\n",
            "Requirement already satisfied: certifi>=2017.4.17 in /usr/local/lib/python3.10/dist-packages (from requests->music21) (2023.11.17)\n",
            "Requirement already satisfied: six>=1.5 in /usr/local/lib/python3.10/dist-packages (from python-dateutil>=2.7->matplotlib->music21) (1.16.0)\n"
          ]
        }
      ]
    },
    {
      "cell_type": "code",
      "source": [
        "from music21 import converter\n",
        "\n",
        "def play_midi_file(midi_filename):\n",
        "    # Load the MIDI file\n",
        "    midi_stream = converter.parse(midi_filename)\n",
        "\n",
        "    # Play the MIDI stream\n",
        "    midi_stream.show('midi')"
      ],
      "metadata": {
        "id": "t5BgRxgyNblv"
      },
      "execution_count": 56,
      "outputs": []
    },
    {
      "cell_type": "code",
      "source": [
        "midi_filename = \"./vae_single.mid\"\n",
        "play_midi_file(midi_filename)"
      ],
      "metadata": {
        "colab": {
          "base_uri": "https://localhost:8080/",
          "height": 134
        },
        "id": "D3UX7rB1ODOX",
        "outputId": "5bdd4398-bfd9-48c6-ab0a-a9ef35413958"
      },
      "execution_count": 77,
      "outputs": [
        {
          "output_type": "display_data",
          "data": {
            "text/plain": [
              "<IPython.core.display.HTML object>"
            ],
            "text/html": [
              "\n",
              "        <div id=\"midiPlayerDiv14344\"></div>\n",
              "        <link rel=\"stylesheet\" href=\"https://cuthbertLab.github.io/music21j/css/m21.css\">\n",
              "        \n",
              "        <script\n",
              "        src=\"https://cdnjs.cloudflare.com/ajax/libs/require.js/2.3.6/require.min.js\"\n",
              "        ></script>\n",
              "    \n",
              "        <script>\n",
              "        function midiPlayerDiv14344_play() {\n",
              "            const rq = require.config({\n",
              "                paths: {\n",
              "                    'music21': 'https://cuthbertLab.github.io/music21j/releases/music21.debug',\n",
              "                }\n",
              "            });\n",
              "            rq(['music21'], function(music21) {\n",
              "                mp = new music21.miditools.MidiPlayer();\n",
              "                mp.addPlayer(\"#midiPlayerDiv14344\");\n",
              "                mp.base64Load(\"data:audio/midi;base64,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\");\n",
              "            });\n",
              "        }\n",
              "        if (typeof require === 'undefined') {\n",
              "            setTimeout(midiPlayerDiv14344_play, 2000);\n",
              "        } else {\n",
              "            midiPlayerDiv14344_play();\n",
              "        }\n",
              "        </script>"
            ]
          },
          "metadata": {}
        }
      ]
    },
    {
      "cell_type": "markdown",
      "source": [
        "#### concatenating samples"
      ],
      "metadata": {
        "id": "K9gEofpsyuMI"
      }
    },
    {
      "cell_type": "code",
      "source": [
        "p2 = np.concatenate((preds[:, :, :], preds[:, :, :]), axis=1)\n",
        "\n",
        "p2 = preds.reshape((-1, 128))\n",
        "p2.shape"
      ],
      "metadata": {
        "colab": {
          "base_uri": "https://localhost:8080/"
        },
        "id": "HHhpwcSvyxmj",
        "outputId": "962b1ff4-529e-432a-ce04-f84590c0a6ac"
      },
      "execution_count": 58,
      "outputs": [
        {
          "output_type": "execute_result",
          "data": {
            "text/plain": [
              "(128000, 128)"
            ]
          },
          "metadata": {},
          "execution_count": 58
        }
      ]
    },
    {
      "cell_type": "code",
      "source": [
        "ppr.write(\"vae_whole.mid\", array_to_pianoroll(p2))"
      ],
      "metadata": {
        "id": "Gi4rMcREy-Qu"
      },
      "execution_count": 78,
      "outputs": []
    },
    {
      "cell_type": "markdown",
      "source": [
        "#### random generation"
      ],
      "metadata": {
        "id": "D_uMmNUwzad8"
      }
    },
    {
      "cell_type": "code",
      "source": [
        "z =  tf.keras.backend.random_normal(shape=(1, latent_dim))\n",
        "x_decoded = vae2.decoder.predict(z)\n",
        "p3 =  np.squeeze(x_decoded[0], axis=-1)\n",
        "p_final = p3.astype(np.float32) * 127 - 127\n",
        "print(p_final.shape)"
      ],
      "metadata": {
        "colab": {
          "base_uri": "https://localhost:8080/"
        },
        "id": "SuUvt_Xnn4Mp",
        "outputId": "7536dd42-386f-4a31-cda0-c9e4289fc9a6"
      },
      "execution_count": 80,
      "outputs": [
        {
          "output_type": "stream",
          "name": "stdout",
          "text": [
            "1/1 [==============================] - 0s 27ms/step\n",
            "(128, 128)\n"
          ]
        }
      ]
    },
    {
      "cell_type": "code",
      "source": [
        "ppr.write(\"vae_random.mid\", array_to_pianoroll(p_final))"
      ],
      "metadata": {
        "id": "3O0eZl8vpE0Y"
      },
      "execution_count": 81,
      "outputs": []
    },
    {
      "cell_type": "code",
      "source": [
        "midi_filename = \"./vae_random.mid\"\n",
        "play_midi_file(midi_filename)"
      ],
      "metadata": {
        "colab": {
          "base_uri": "https://localhost:8080/",
          "height": 134
        },
        "id": "jBaGc4ompkRz",
        "outputId": "5ef0be31-9214-4a6e-e59b-84105533f13c"
      },
      "execution_count": 82,
      "outputs": [
        {
          "output_type": "display_data",
          "data": {
            "text/plain": [
              "<IPython.core.display.HTML object>"
            ],
            "text/html": [
              "\n",
              "        <div id=\"midiPlayerDiv18666\"></div>\n",
              "        <link rel=\"stylesheet\" href=\"https://cuthbertLab.github.io/music21j/css/m21.css\">\n",
              "        \n",
              "        <script\n",
              "        src=\"https://cdnjs.cloudflare.com/ajax/libs/require.js/2.3.6/require.min.js\"\n",
              "        ></script>\n",
              "    \n",
              "        <script>\n",
              "        function midiPlayerDiv18666_play() {\n",
              "            const rq = require.config({\n",
              "                paths: {\n",
              "                    'music21': 'https://cuthbertLab.github.io/music21j/releases/music21.debug',\n",
              "                }\n",
              "            });\n",
              "            rq(['music21'], function(music21) {\n",
              "                mp = new music21.miditools.MidiPlayer();\n",
              "                mp.addPlayer(\"#midiPlayerDiv18666\");\n",
              "                mp.base64Load(\"data:audio/midi;base64,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\");\n",
              "            });\n",
              "        }\n",
              "        if (typeof require === 'undefined') {\n",
              "            setTimeout(midiPlayerDiv18666_play, 2000);\n",
              "        } else {\n",
              "            midiPlayerDiv18666_play();\n",
              "        }\n",
              "        </script>"
            ]
          },
          "metadata": {}
        }
      ]
    },
    {
      "cell_type": "code",
      "source": [],
      "metadata": {
        "id": "naiK_ydYz6tB"
      },
      "execution_count": 82,
      "outputs": []
    }
  ],
  "metadata": {
    "kernelspec": {
      "display_name": "Python 3",
      "name": "python3"
    },
    "language_info": {
      "codemirror_mode": {
        "name": "ipython",
        "version": 3
      },
      "file_extension": ".py",
      "mimetype": "text/x-python",
      "name": "python",
      "nbconvert_exporter": "python",
      "pygments_lexer": "ipython3",
      "version": "3.11.6"
    },
    "colab": {
      "provenance": [],
      "gpuType": "T4"
    },
    "accelerator": "GPU"
  },
  "nbformat": 4,
  "nbformat_minor": 0
}